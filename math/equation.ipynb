{
 "cells": [
  {
   "cell_type": "markdown",
   "metadata": {
    "id": "MjhWPF_fS01M"
   },
   "source": [
    "## Свойства коэффициентов кубической функции. Практика\n",
    "\n",
    "В качестве практики подберите, как и в прошлый раз, варьируя коэффициенты, функцию для набора точек. Только в этот раз функция будет кубическая. Получается, вам нужно решить задачу интерполяции полиномом третьей степени. Интерфейс для выполнения задания аналогичен тому, который был в практике к предыдущему уроку."
   ]
  },
  {
   "cell_type": "code",
   "execution_count": 1,
   "metadata": {
    "id": "YYcdUQiHACdC"
   },
   "outputs": [],
   "source": [
    "%matplotlib inline\n",
    "from ipywidgets import interactive\n",
    "import matplotlib.pyplot as plt\n",
    "import numpy as np"
   ]
  },
  {
   "cell_type": "code",
   "execution_count": 1,
   "metadata": {
    "id": "PvczpL-OACdS"
   },
   "outputs": [],
   "source": [
    "def get_polyfunc_title(koefs):\n",
    "    s_koefs = ''.join([f'+{koefs[i]}x^{len(koefs)-i-1}' if koefs[i]>0\n",
    "                       else f'{koefs[i]}x^{len(koefs)-i-1}' if koefs[i]<0\n",
    "                       else ''\n",
    "                       for i in range(len(koefs))])\n",
    "    expr = s_koefs.replace('x^0', '') \\\n",
    "                  .replace('+', ' + ') \\\n",
    "                  .replace('-', ' - ') \\\n",
    "                  .replace('x^1', 'x') \\\n",
    "                  .replace(' 1x', ' x')\n",
    "\n",
    "    if expr[:3]==' + ':\n",
    "        expr = expr[3:]\n",
    "    if expr:\n",
    "        return '$f(x) = ' + expr + '$'\n",
    "\n",
    "def check(f, x, y):\n",
    "    check = False not in [f(x[i])==y[i] for i in range(len(x))]\n",
    "    if not check:\n",
    "        print('Пока не получилось')\n",
    "    else:\n",
    "        print('Ура! Получилось!')"
   ]
  },
  {
   "cell_type": "code",
   "execution_count": 2,
   "metadata": {
    "id": "53rk2-niACdd"
   },
   "outputs": [],
   "source": [
    "def cubic_parabola(a, b, c, d):\n",
    "    plt.figure(3)\n",
    "    plt.axhline(0, color='black')\n",
    "    plt.axvline(0, color='black')\n",
    "\n",
    "    x, y = [x for x, y in points], [y for x, y in points]\n",
    "    plt.scatter(x, y, c='r')\n",
    "\n",
    "    if a!=0:\n",
    "        f = lambda x: a * x**3 + b * x**2 + c * x + d\n",
    "        check(f, x, y)\n",
    "\n",
    "        x = np.linspace(-15, 15, num=1000)\n",
    "        plt.plot(x, a * x**3 + b * x**2 + c * x + d)\n",
    "\n",
    "    plt.ylim(-35, 35)\n",
    "    plt.xlim(-5, 5)\n",
    "\n",
    "    plt.title(get_polyfunc_title([a,b,c,d]))\n",
    "\n",
    "    plt.show()"
   ]
  },
  {
   "cell_type": "code",
   "execution_count": 5,
   "metadata": {
    "colab": {
     "referenced_widgets": [
      "7f3ccffc8346485d838dff4b37a8e4e6"
     ]
    },
    "id": "hoJJtIQNACdo",
    "outputId": "785eb1b9-7df9-4b47-a392-b8b4955bb19f"
   },
   "outputs": [
    {
     "data": {
      "application/vnd.jupyter.widget-view+json": {
       "model_id": "c7ddda3e18d749d5b4b3caff40b05711",
       "version_major": 2,
       "version_minor": 0
      },
      "text/plain": [
       "interactive(children=(IntSlider(value=0, description='a', max=15, min=-15), IntSlider(value=0, description='b'…"
      ]
     },
     "execution_count": 5,
     "metadata": {},
     "output_type": "execute_result"
    }
   ],
   "source": [
    "points = [[-0.5, -15.0],\n",
    "          [-1, -31],\n",
    "          [0, -7],\n",
    "          [0.5, -4.0],\n",
    "          [1, -3],\n",
    "          [2, 5],\n",
    "          [2.5, 18.0],\n",
    "          [3, 41]]\n",
    "\n",
    "interactive_plot = interactive(cubic_parabola, a=(-15, 15, 1), b=(-10, 10, 1), c=(-10, 10, 1), d=(-10, 10, 1))\n",
    "output = interactive_plot.children[-1]\n",
    "output.layout.height = '300px'\n",
    "interactive_plot"
   ]
  },
  {
   "cell_type": "code",
   "execution_count": null,
   "metadata": {
    "colab": {
     "referenced_widgets": [
      "bb7d2c379cfd44d78101c9070f05a922"
     ]
    },
    "id": "dA2JdL3bACdx",
    "outputId": "7771ccf9-6a1f-45dc-de36-821eff3791e7"
   },
   "outputs": [
    {
     "data": {
      "application/vnd.jupyter.widget-view+json": {
       "model_id": "bb7d2c379cfd44d78101c9070f05a922",
       "version_major": 2,
       "version_minor": 0
      },
      "text/plain": [
       "interactive(children=(IntSlider(value=0, description='a', max=15, min=-15), IntSlider(value=0, description='b'…"
      ]
     },
     "metadata": {},
     "output_type": "display_data"
    }
   ],
   "source": [
    "points = [[-5.0, -68.0],\n",
    "          [-3.75, -8.234375],\n",
    "          [-2.5, 16.375],\n",
    "          [-1.25, 17.546875],\n",
    "          [0.0, 7.0],\n",
    "          [1.25, -3.546875],\n",
    "          [2.5, -2.375],\n",
    "          [3.75, 22.234375],\n",
    "          [5.0, 82.0]]\n",
    "\n",
    "interactive_plot = interactive(cubic_parabola, a=(-15, 15, 1), b=(-10, 10, 1), c=(-10, 10, 1), d=(-10, 10, 1))\n",
    "output = interactive_plot.children[-1]\n",
    "output.layout.height = '300px'\n",
    "interactive_plot"
   ]
  },
  {
   "cell_type": "markdown",
   "metadata": {},
   "source": [
    "Есть два одинаковых по массе куска чугуна с разным содержанием хрома. Процентное содержание хрома в первом куске на 5 меньше, чем во втором. Сплавив эти куски, получили сплав, в котором содержится 12 кг хрома. Если бы масса первого куска была в 2 раза больше, то в сплаве содержалось бы 16 кг хрома. \n",
    "\n",
    "Задание: найдите процентное содержание хрома в каждом куске чугуна."
   ]
  },
  {
   "cell_type": "code",
   "execution_count": 1,
   "metadata": {},
   "outputs": [],
   "source": [
    "from sympy import*\n",
    "from sympy.solvers.solveset import linsolve\n",
    "init_printing(use_unicode = False, wrap_line = False, no_global=True)\n",
    "from sympy.solvers.inequalities import solve_univariate_inequality"
   ]
  },
  {
   "cell_type": "code",
   "execution_count": 3,
   "metadata": {},
   "outputs": [
    {
     "data": {
      "image/png": "[encoded data removed]",
      "text/latex": [
       "$\\displaystyle \\left\\{\\left( 4, \\  8\\right)\\right\\}$"
      ],
      "text/plain": [
       "{(4, 8)}"
      ]
     },
     "execution_count": 3,
     "metadata": {},
     "output_type": "execute_result"
    }
   ],
   "source": [
    "b"
   ]
  },
  {
   "cell_type": "markdown",
   "metadata": {},
   "source": [
    "Значит хрома в кусках было 4 и 8 кr\n",
    "Остается найти такую массу, где \"Процентное содержание хрома в первом куске на 5 меньше\" дает 4 и 8"
   ]
  },
  {
   "cell_type": "code",
   "execution_count": 70,
   "metadata": {},
   "outputs": [
    {
     "data": {
      "image/png": "[encoded data removed]",
      "text/latex": [
       "$\\displaystyle \\left\\{\\left( 0, \\  0\\right), \\left( 80.0, \\  80.0\\right)\\right\\}$"
      ],
      "text/plain": [
       "{(0, 0), (80.0, 80.0)}"
      ]
     },
     "execution_count": 70,
     "metadata": {},
     "output_type": "execute_result"
    }
   ],
   "source": [
    "eq3 = 4/m1 - 8/m2 + 0.05 # Процентное содержание хрома в первом куске на 5 меньше\n",
    "eq4 = m1-m2              # массы двух кусков равны\n",
    "nonlinsolve([eq3,eq4], [m1, m2])"
   ]
  },
  {
   "cell_type": "markdown",
   "metadata": {},
   "source": [
    "Нулевые решения не подходят, значит масса кусков была по 80kg\n",
    "Остается арифметически посчитать процентное содержание хрома в кусках"
   ]
  },
  {
   "cell_type": "code",
   "execution_count": 48,
   "metadata": {},
   "outputs": [
    {
     "name": "stdout",
     "output_type": "stream",
     "text": [
      "Процентное содержание хрома в каждом куске чугуна\n",
      "В первом куске: 0.05\n",
      "Во втором куске: 0.1\n"
     ]
    }
   ],
   "source": [
    "perc1 = 4 / 80\n",
    "perc2 = 8 / 80\n",
    "print(\"Процентное содержание хрома в каждом куске чугуна\")\n",
    "print(\"В первом куске:\", perc1)\n",
    "print(\"Во втором куске:\", perc2)"
   ]
  },
  {
   "cell_type": "code",
   "execution_count": 5,
   "metadata": {},
   "outputs": [],
   "source": [
    "from sympy import*\n",
    "from sympy.solvers.solveset import linsolve\n",
    "init_printing(use_unicode = False, wrap_line = False, no_global=True)\n",
    "from sympy.solvers.inequalities import solve_univariate_inequality"
   ]
  },
  {
   "cell_type": "code",
   "execution_count": 6,
   "metadata": {},
   "outputs": [],
   "source": [
    "xv = [200, 300, 600]\n",
    "yv = [2, 1, 3]\n",
    "sv = [200, 450, 550]"
   ]
  },
  {
   "cell_type": "code",
   "execution_count": 8,
   "metadata": {},
   "outputs": [],
   "source": [
    "x1,x2,x3 = symbols(\"x1,x2,x3\")\n",
    "a0,a1,a2,a3 = symbols(\"a0,a1,a2,a3\")"
   ]
  },
  {
   "cell_type": "code",
   "execution_count": 11,
   "metadata": {},
   "outputs": [],
   "source": [
    "f = a2 * x2 + a1 * x1 + a0"
   ]
  },
  {
   "cell_type": "code",
   "execution_count": 22,
   "metadata": {},
   "outputs": [
    {
     "name": "stdout",
     "output_type": "stream",
     "text": [
      "(a0 + a1 + 300*a2 - 450)**2/3 + (a0 + 2*a1 + 200*a2 - 200)**2/3 + (a0 + 3*a1 + 600*a2 - 550)**2/3\n"
     ]
    }
   ],
   "source": [
    "MSE1 = ((200 * a2 + 2 * a1 + a0 - 200)**2) / 3\n",
    "MSE2 = ((300 * a2 + 1 * a1 + a0 - 450)**2) / 3\n",
    "MSE3 = ((600 * a2 + 3 * a1 + a0 - 550)**2) / 3\n",
    "MSE = MSE1 + MSE2 + MSE3\n",
    "print(MSE)"
   ]
  },
  {
   "cell_type": "code",
   "execution_count": 23,
   "metadata": {},
   "outputs": [
    {
     "name": "stdout",
     "output_type": "stream",
     "text": [
      "2200*a0/3 + 5000*a1/3 + 980000*a2/3 - 1010000/3\n",
      "4*a0 + 28*a1/3 + 5000*a2/3 - 5000/3\n",
      "2*a0 + 4*a1 + 2200*a2/3 - 800\n"
     ]
    }
   ],
   "source": [
    "MSEa2 = MSE.diff(a2)\n",
    "MSEa1 = MSE.diff(a1)\n",
    "MSEa0 = MSE.diff(a0)\n",
    "print(MSEa2)\n",
    "print(MSEa1)\n",
    "print(MSEa0)"
   ]
  },
  {
   "cell_type": "code",
   "execution_count": 24,
   "metadata": {},
   "outputs": [
    {
     "data": {
      "image/png": "[encoded data removed]",
      "text/latex": [
       "$\\displaystyle \\left\\{\\left( \\frac{6}{5}, \\  -130, \\  220\\right)\\right\\}$"
      ],
      "text/plain": [
       "{(6/5, -130, 220)}"
      ]
     },
     "execution_count": 24,
     "metadata": {},
     "output_type": "execute_result"
    }
   ],
   "source": [
    "nonlinsolve([MSEa2,MSEa1,MSEa0], [a2,a1,a0])"
   ]
  },
  {
   "cell_type": "code",
   "execution_count": 25,
   "metadata": {},
   "outputs": [],
   "source": [
    "f = 6/5 * x1 - 130 * x2 + 220"
   ]
  },
  {
   "cell_type": "code",
   "execution_count": 27,
   "metadata": {},
   "outputs": [
    {
     "data": {
      "image/png": "[encoded data removed]",
      "text/latex": [
       "$\\displaystyle 499.2$"
      ],
      "text/plain": [
       "499.200000000000"
      ]
     },
     "execution_count": 27,
     "metadata": {},
     "output_type": "execute_result"
    }
   ],
   "source": [
    "f.subs({x1:666, x2:4})"
   ]
  },
  {
   "cell_type": "markdown",
   "metadata": {},
   "source": [
    "1945 кг 560 л. с. 4,3 с\n",
    "1495 кг 340 л. с. 4,9 с\n",
    "1570 кг 343 л. с. 5,2 с\n",
    "1520 кг 431 л. с. ? с"
   ]
  },
  {
   "cell_type": "code",
   "execution_count": 28,
   "metadata": {},
   "outputs": [
    {
     "name": "stdout",
     "output_type": "stream",
     "text": [
      "3783025*(a0/1945 + 112*a1/389 + a2 - 0.00221079691516709)**2/3 + 2464900*(a0/1570 + 343*a1/1570 + a2 - 0.00331210191082803)**2/3 + 2235025*(a0/1495 + 68*a1/299 + a2 - 0.00327759197324415)**2/3\n"
     ]
    }
   ],
   "source": [
    "MSE1 = ((1945 * a2 + 560 * a1 + a0 - 4.3)**2)\n",
    "MSE2 = ((1495 * a2 + 340 * a1 + a0 - 4.9)**2)\n",
    "MSE3 = ((1570 * a2 + 343 * a1 + a0 - 5.2)**2)\n",
    "MSE = (MSE1 + MSE2 + MSE3) / 3\n",
    "print(MSE)"
   ]
  },
  {
   "cell_type": "code",
   "execution_count": 29,
   "metadata": {},
   "outputs": [
    {
     "name": "stdout",
     "output_type": "stream",
     "text": [
      "3340*a0 + 4272020*a1/3 + 5655300*a2 - 15902.0\n",
      "2486*a0/3 + 364566*a1 + 4272020*a2/3 - 3905.06666666667\n",
      "2*a0 + 2486*a1/3 + 3340*a2 - 9.6\n"
     ]
    }
   ],
   "source": [
    "MSEa2 = MSE.diff(a2)\n",
    "MSEa1 = MSE.diff(a1)\n",
    "MSEa0 = MSE.diff(a0)\n",
    "print(MSEa2)\n",
    "print(MSEa1)\n",
    "print(MSEa0)"
   ]
  },
  {
   "cell_type": "code",
   "execution_count": 40,
   "metadata": {},
   "outputs": [
    {
     "data": {
      "image/png": "[encoded data removed]",
      "text/latex": [
       "$\\displaystyle \\left[ \\left( 0.00447524752475247, \\  -0.0118811881188119, \\  2.24910891089109\\right)\\right]$"
      ],
      "text/plain": [
       "[(0.00447524752475247, -0.0118811881188119, 2.24910891089109)]"
      ]
     },
     "execution_count": 40,
     "metadata": {},
     "output_type": "execute_result"
    }
   ],
   "source": [
    "solution = list(nonlinsolve([MSEa2,MSEa1,MSEa0], [a2,a1,a0]))\n",
    "solution"
   ]
  },
  {
   "cell_type": "code",
   "execution_count": 42,
   "metadata": {},
   "outputs": [
    {
     "data": {
      "image/png": "[encoded data removed]",
      "text/latex": [
       "$\\displaystyle 3.93069306930693$"
      ],
      "text/plain": [
       "3.93069306930693"
      ]
     },
     "execution_count": 42,
     "metadata": {},
     "output_type": "execute_result"
    }
   ],
   "source": [
    "f = solution[0][0] * x1 + solution[0][1] * x2 + solution[0][2]\n",
    "f.subs({x1:1520, x2:431})"
   ]
  },
  {
   "cell_type": "markdown",
   "metadata": {},
   "source": [
    "# Матрицы и вектора"
   ]
  },
  {
   "cell_type": "code",
   "execution_count": 2,
   "metadata": {},
   "outputs": [
    {
     "data": {
      "text/plain": [
       "1632"
      ]
     },
     "execution_count": 2,
     "metadata": {},
     "output_type": "execute_result"
    }
   ],
   "source": [
    "a = np.array([2, 5, 0, 6, 8, 10, 6, 7, 5, 7])\n",
    "b = np.array([8, 6, 7, 9, 6, 6, 2, 3, 2, 3])\n",
    "(3*a) @ (2*b)"
   ]
  },
  {
   "cell_type": "code",
   "execution_count": 3,
   "metadata": {},
   "outputs": [
    {
     "data": {
      "text/plain": [
       "array([3, 3, 3])"
      ]
     },
     "execution_count": 3,
     "metadata": {},
     "output_type": "execute_result"
    }
   ],
   "source": [
    "v1 = np.array([1,1,1])\n",
    "v2 = np.array([2,2,2])\n",
    "3*v1"
   ]
  },
  {
   "cell_type": "code",
   "execution_count": 4,
   "metadata": {},
   "outputs": [
    {
     "data": {
      "text/plain": [
       "6"
      ]
     },
     "execution_count": 4,
     "metadata": {},
     "output_type": "execute_result"
    }
   ],
   "source": [
    "v1 @ v2"
   ]
  },
  {
   "cell_type": "code",
   "execution_count": 6,
   "metadata": {},
   "outputs": [],
   "source": [
    "def transpose(matrix: np.array) -> np.array:\n",
    "    transposed_matrix = np.ndarray(shape=matrix.shape[::-1], dtype=matrix.dtype)\n",
    "    for i in range(matrix.shape[0]):\n",
    "        for j in range(matrix.shape[1]):\n",
    "            transposed_matrix[j, i] = matrix[i, j]\n",
    "    return transposed_matrix"
   ]
  },
  {
   "cell_type": "code",
   "execution_count": 8,
   "metadata": {},
   "outputs": [
    {
     "data": {
      "text/plain": [
       "array([[ 2,  1,  7,  4],\n",
       "       [ 5,  6,  7,  3],\n",
       "       [ 9,  8,  2, 12],\n",
       "       [11, 14, 15, 15]])"
      ]
     },
     "execution_count": 8,
     "metadata": {},
     "output_type": "execute_result"
    }
   ],
   "source": [
    "A = np.array(\n",
    "[[2, 1, 7, 4], \n",
    "[5, 6, 7, 3], \n",
    "[9, 8, 2, 12], \n",
    "[11, 14, 15, 15]], dtype=np.int32\n",
    ")\n",
    "A"
   ]
  },
  {
   "cell_type": "code",
   "execution_count": 10,
   "metadata": {},
   "outputs": [
    {
     "data": {
      "text/plain": [
       "array([[ 2,  5,  9, 11],\n",
       "       [ 1,  6,  8, 14],\n",
       "       [ 7,  7,  2, 15],\n",
       "       [ 4,  3, 12, 15]])"
      ]
     },
     "execution_count": 10,
     "metadata": {},
     "output_type": "execute_result"
    }
   ],
   "source": [
    "transpose(A)"
   ]
  },
  {
   "cell_type": "code",
   "execution_count": 11,
   "metadata": {},
   "outputs": [
    {
     "data": {
      "text/plain": [
       "array([[ 2,  5,  9, 11],\n",
       "       [ 1,  6,  8, 14],\n",
       "       [ 7,  7,  2, 15],\n",
       "       [ 4,  3, 12, 15]])"
      ]
     },
     "execution_count": 11,
     "metadata": {},
     "output_type": "execute_result"
    }
   ],
   "source": [
    "A.T"
   ]
  },
  {
   "cell_type": "markdown",
   "metadata": {},
   "source": [
    "В лесу 99% деревьев составляют сосны. Леспромхоз решил вырубить сосны так, чтобы доля уменьшилась до 98%.\n",
    "Какую часть леса нужно вырубить?"
   ]
  },
  {
   "cell_type": "code",
   "execution_count": 5,
   "metadata": {},
   "outputs": [],
   "source": [
    "from sympy import*\n",
    "from sympy.solvers.solveset import linsolve"
   ]
  },
  {
   "cell_type": "code",
   "execution_count": 2,
   "metadata": {},
   "outputs": [],
   "source": [
    "s,f,v = symbols(\"s,f,v\")"
   ]
  },
  {
   "cell_type": "markdown",
   "metadata": {},
   "source": [
    "s = 0.99*f               # сосны составляют 99% леса\n",
    "s-v = 0.98 * (f - v)     # сосны минус вырубка составят 98% леса минус вырубка"
   ]
  },
  {
   "cell_type": "code",
   "execution_count": 3,
   "metadata": {},
   "outputs": [
    {
     "data": {
      "text/latex": [
       "$\\displaystyle \\left\\{\\left( 1.98 v, \\  v, \\  2.0 v\\right)\\right\\}$"
      ],
      "text/plain": [
       "{(1.98*v, v, 2.0*v)}"
      ]
     },
     "execution_count": 3,
     "metadata": {},
     "output_type": "execute_result"
    }
   ],
   "source": [
    "eq1 = 0.99 * f - s             \n",
    "eq2 = 0.98 * (f - v) - (s - v)\n",
    "nonlinsolve([eq1,eq2], [s,v,f])"
   ]
  },
  {
   "cell_type": "markdown",
   "metadata": {},
   "source": [
    "То есть лес должен быть в два раза бльше вырубки\n",
    "Ответ - придется вырубить 50% леса"
   ]
  },
  {
   "cell_type": "code",
   "execution_count": 13,
   "metadata": {},
   "outputs": [
    {
     "data": {
      "text/latex": [
       "$\\displaystyle \\left[\\begin{matrix}4.1 & 3.9 & 4.0\\\\4.7 & 4.2 & 4.3\\end{matrix}\\right]$"
      ],
      "text/plain": [
       "Matrix([\n",
       "[4.1, 3.9, 4.0],\n",
       "[4.7, 4.2, 4.3]])"
      ]
     },
     "execution_count": 13,
     "metadata": {},
     "output_type": "execute_result"
    }
   ],
   "source": [
    "from sympy import*\n",
    "X = Matrix([[4.1, 3.9, 4.0], [4.7, 4.2, 4.3]])\n",
    "X"
   ]
  },
  {
   "cell_type": "code",
   "execution_count": 14,
   "metadata": {},
   "outputs": [
    {
     "data": {
      "text/latex": [
       "$\\displaystyle \\left\\{\\left( -0.0270270270270284, \\  1.05405405405406\\right)\\right\\}$"
      ],
      "text/plain": [
       "{(-0.0270270270270284, 1.05405405405406)}"
      ]
     },
     "execution_count": 14,
     "metadata": {},
     "output_type": "execute_result"
    }
   ],
   "source": [
    "a1,a2 = symbols(\"a1,a2\")\n",
    "linsolve(X, [a1,a2])"
   ]
  }
 ],
 "metadata": {
  "colab": {
   "provenance": [
    {
     "file_id": "18UMvRahP18I0gjbACcae6eiypxULx5O3",
     "timestamp": 1706214251336
    }
   ]
  },
  "kernelspec": {
   "display_name": "Python 3 (ipykernel)",
   "language": "python",
   "name": "python3"
  },
  "language_info": {
   "codemirror_mode": {
    "name": "ipython",
    "version": 3
   },
   "file_extension": ".py",
   "mimetype": "text/x-python",
   "name": "python",
   "nbconvert_exporter": "python",
   "pygments_lexer": "ipython3",
   "version": "3.11.5"
  }
 },
 "nbformat": 4,
 "nbformat_minor": 1
}
