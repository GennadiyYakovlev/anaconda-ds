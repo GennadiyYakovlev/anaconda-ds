{
 "cells": [
  {
   "cell_type": "code",
   "execution_count": 1,
   "id": "8fa4e005",
   "metadata": {},
   "outputs": [],
   "source": [
    "file = open('anna_words.txt', encoding='UTF-8')\n",
    "words = file.read()\n",
    "file.close()"
   ]
  },
  {
   "cell_type": "code",
   "execution_count": 2,
   "id": "06392939",
   "metadata": {},
   "outputs": [
    {
     "name": "stdout",
     "output_type": "stream",
     "text": [
      "1198\n"
     ]
    }
   ],
   "source": [
    "words = set()\n",
    "with open('anna_words.txt', encoding='UTF-8') as file:\n",
    "    for word in file:\n",
    "        words.add(word)\n",
    "print(len(words))"
   ]
  }
 ],
 "metadata": {
  "kernelspec": {
   "display_name": "Python 3 (ipykernel)",
   "language": "python",
   "name": "python3"
  },
  "language_info": {
   "codemirror_mode": {
    "name": "ipython",
    "version": 3
   },
   "file_extension": ".py",
   "mimetype": "text/x-python",
   "name": "python",
   "nbconvert_exporter": "python",
   "pygments_lexer": "ipython3",
   "version": "3.11.5"
  }
 },
 "nbformat": 4,
 "nbformat_minor": 5
}
