{
 "cells": [
  {
   "cell_type": "markdown",
   "metadata": {
    "id": "1ede1DhglCo2"
   },
   "source": [
    "## **Случайные события. Практическая работа**"
   ]
  },
  {
   "cell_type": "markdown",
   "metadata": {
    "id": "vWRlpD8wmGom"
   },
   "source": [
    "### **Задание 1**\n",
    "\n",
    "Даны таблицы с суммами и произведениями значений при броске двух кубиков. Используя эти таблицы, вычислите вероятности следующих сложных событий.\n",
    "\n",
    "<p align=\"left\">\n",
    "  <img src=\"https://drive.google.com/uc?id=1If1NDfwPCfLC6JHqxa5IDgXLRzrbB-sI\" alt=\"drawing\" width=\"600\"/>\n",
    "</p>\n",
    "\n",
    "<p align=\"left\">\n",
    "  <img src=\"https://drive.google.com/uc?id=1vWNTqND6br6XzESVSwqKjK9AqeN0-k-4\" alt=\"drawing\" width=\"600\"/>\n",
    "</p>\n",
    "\n",
    "1. Вероятность, что полученная сумма значений на кубиках — нечётное число.\n"
   ]
  },
  {
   "cell_type": "code",
   "execution_count": 1,
   "metadata": {
    "id": "op3eZLlXm7N6"
   },
   "outputs": [
    {
     "name": "stdout",
     "output_type": "stream",
     "text": [
      "Число исходов = 18 ; Вероятность получить в сумме нечетное число = 0.5\n"
     ]
    }
   ],
   "source": [
    "n = 36 #размер таблицы, мощность пространства элементарных событий \n",
    "\n",
    "# выберем по таблице из всего множества событий те, где \"в сумме поулчили нечетное число\"\n",
    "A_odd = {(1,2),(1,4),(1,6),(2,1),(2,3),(2,5),(3,2),(3,4),(3,6),(4,1),(4,3),(4,5),(5,2),(5,4),(5,6),(6,1),(6,3),(6,5)}\n",
    "\n",
    "print(\"Число исходов =\", len(A_odd), \"; Вероятность получить в сумме нечетное число =\", len(A_odd) / n)"
   ]
  },
  {
   "cell_type": "markdown",
   "metadata": {
    "id": "6cgcddHem7qV"
   },
   "source": [
    "2. Вероятность, что полученная сумма значений на кубиках — число, кратное трём.\n",
    "\n"
   ]
  },
  {
   "cell_type": "code",
   "execution_count": 2,
   "metadata": {
    "id": "YyJ5fkQvm-ev"
   },
   "outputs": [
    {
     "name": "stdout",
     "output_type": "stream",
     "text": [
      "Множество исходов, где сумма значений на кубиках — число, кратное трём\n",
      " {(5, 1, 6), (6, 6, 12), (6, 3, 9), (1, 2, 3), (2, 1, 3), (3, 6, 9), (1, 5, 6), (3, 3, 6), (4, 5, 9), (4, 2, 6), (2, 4, 6), (5, 4, 9)}\n",
      "\n",
      "Число исходов = 12 ; Вероятность получить число, кратное трём = 0.333\n"
     ]
    }
   ],
   "source": [
    "# полный список элементарных исходов из первой таблицы\n",
    "A = [(i,j,i+j) for i in range(1,7) for j in range(1,7)]\n",
    "\n",
    "# выберем элементарные исходы про \"сумма значений на кубиках — число, кратное трём\"\n",
    "A_mult3 = {elem for elem in A if not elem[2] % 3}\n",
    "print(\"Множество исходов, где сумма значений на кубиках — число, кратное трём\\n\", A_mult3)\n",
    "\n",
    "print(\"\\nЧисло исходов =\", len(A_mult3), \"; Вероятность получить число, кратное трём =\", round(len(A_mult3) / n, 3))"
   ]
  },
  {
   "cell_type": "markdown",
   "metadata": {
    "id": "87xRZ-Ydm_bd"
   },
   "source": [
    "3. Вероятность, что сумма будет меньше пяти или больше десяти.\n"
   ]
  },
  {
   "cell_type": "code",
   "execution_count": 3,
   "metadata": {
    "id": "4XqHSi9BnCVs"
   },
   "outputs": [
    {
     "name": "stdout",
     "output_type": "stream",
     "text": [
      "Множество исходов с суммой меньше 5\n",
      " {(3, 1, 4), (1, 2, 3), (2, 1, 3), (1, 3, 4), (1, 1, 2), (2, 2, 4)}\n",
      "\n",
      "Множество исходов с суммой больше 10\n",
      " {(6, 5, 11), (6, 6, 12), (5, 6, 11)}\n",
      "\n",
      "Условия независимы: True\n",
      "\n",
      "Число исходов = 9 ; Вероятность получить описанное число = 0.25\n"
     ]
    }
   ],
   "source": [
    "# выберем элементарные исходы про \"сумма меньше 5\"\n",
    "A_less5 = {elem for elem in A if elem[2] < 5}\n",
    "print(\"Множество исходов с суммой меньше 5\\n\", A_less5)\n",
    "\n",
    "# выберем элементарные исходы про \"сумма больше 10\"\n",
    "A_greater10 = {elem for elem in A if elem[2] > 10}\n",
    "print(\"\\nМножество исходов с суммой больше 10\\n\", A_greater10)\n",
    "\n",
    "# убедимся, что события незвисимы и можно будет просто сложить вероятности\n",
    "print(\"\\nУсловия независимы:\", len(A_less5 & A_greater10) == 0)\n",
    "\n",
    "# значит, общая вероятность получается обычным сложением\n",
    "A_task3 = A_less5 | A_greater10\n",
    "\n",
    "print(\"\\nЧисло исходов =\", len(A_task3), \"; Вероятность получить описанное число =\", round(len(A_task3) / n, 3))"
   ]
  },
  {
   "cell_type": "markdown",
   "metadata": {
    "id": "Dk0iqlGCnCoK"
   },
   "source": [
    "4. Вероятность, что произведение значений будет равно двенадцати.\n"
   ]
  },
  {
   "cell_type": "code",
   "execution_count": 4,
   "metadata": {
    "id": "4DsrJuKWnE_W"
   },
   "outputs": [
    {
     "name": "stdout",
     "output_type": "stream",
     "text": [
      "Множество исходов, где произведение значений будет равно двенадцати:\n",
      " {(2, 6, 12), (4, 3, 12), (3, 4, 12), (6, 2, 12)}\n",
      "\n",
      "Число исходов = 4 ; Вероятность получить описанное число = 0.111\n"
     ]
    }
   ],
   "source": [
    "# полный список элементарных исходов из второй таблицы\n",
    "B = [(i,j,i*j) for i in range(1,7) for j in range(1,7)]\n",
    "\n",
    "# выберем элементарные исходы про \"произведение значений будет равно двенадцати\"\n",
    "B_mult12 = {elem for elem in B if elem[2] == 12}\n",
    "print(\"Множество исходов, где произведение значений будет равно двенадцати:\\n\", B_mult12)\n",
    "\n",
    "print(\"\\nЧисло исходов =\", len(B_mult12), \"; Вероятность получить описанное число =\", round(len(B_mult12) / n, 3))"
   ]
  },
  {
   "cell_type": "markdown",
   "metadata": {
    "id": "61Qt7YUlnFXc"
   },
   "source": [
    "5. Вероятность, что произведение значений — нечётно.\n"
   ]
  },
  {
   "cell_type": "code",
   "execution_count": 5,
   "metadata": {
    "id": "NH4jaPzCnIIt"
   },
   "outputs": [
    {
     "name": "stdout",
     "output_type": "stream",
     "text": [
      "Множество исходов, где произведение значений — нечётно:\n",
      " {(5, 1, 5), (3, 1, 3), (5, 3, 15), (3, 5, 15), (3, 3, 9), (1, 3, 3), (1, 1, 1), (1, 5, 5), (5, 5, 25)}\n",
      "\n",
      "Число исходов = 9 ; Вероятность получить описанное число = 0.25\n"
     ]
    }
   ],
   "source": [
    "# выберем элементарные исходы про \"произведение значений — нечётно\"\n",
    "B_odd = {elem for elem in B if elem[2] % 2}\n",
    "print(\"Множество исходов, где произведение значений — нечётно:\\n\", B_odd)\n",
    "\n",
    "print(\"\\nЧисло исходов =\", len(B_odd), \"; Вероятность получить описанное число =\", round(len(B_odd) / n, 3))"
   ]
  },
  {
   "cell_type": "markdown",
   "metadata": {
    "id": "x1FyFtv9nJES"
   },
   "source": [
    "6. Вероятность, что сумма значений окажется больше или равной их произведению."
   ]
  },
  {
   "cell_type": "code",
   "execution_count": 7,
   "metadata": {
    "id": "qrPXWQYEnah2"
   },
   "outputs": [
    {
     "name": "stdout",
     "output_type": "stream",
     "text": [
      "Множество исходов, где сумма значений >= их произведения:\n",
      " {(5, 1, 6), (3, 1, 4), (4, 1, 5), (1, 2, 3), (2, 1, 3), (1, 3, 4), (1, 1, 2), (1, 5, 6), (2, 2, 4), (6, 1, 7), (1, 4, 5), (1, 6, 7)}\n",
      "\n",
      "Число исходов = 12 ; Вероятность получить такой исход = 0.333\n"
     ]
    }
   ],
   "source": [
    "# выберем элементарные исходы про \"сумма значений >= их произведения\"\n",
    "AgreaterB = {elemA for elemA,elemB in zip(A,B) if elemA[2] >= elemB[2]}\n",
    "print(\"Множество исходов, где сумма значений >= их произведения:\\n\", AgreaterB)\n",
    "\n",
    "print(\"\\nЧисло исходов =\", len(AgreaterB), \"; Вероятность получить такой исход =\", round(len(AgreaterB) / n, 3))"
   ]
  },
  {
   "cell_type": "markdown",
   "metadata": {
    "id": "HGqYRvcQnier"
   },
   "source": [
    "### **Задание 2**\n",
    "Загрузите данные о пассажирах «Титаника» из файла titanic.csv в приложенных к практической работе файлах. Ограничьтесь набором таких переменных, как класс билета пассажира, пол и переменной, показывающей, выжил он или нет. В этом датасете все эти переменные заполнены непустым значением.\n"
   ]
  },
  {
   "cell_type": "code",
   "execution_count": 8,
   "metadata": {
    "id": "ua6B5AdRa2Oj"
   },
   "outputs": [
    {
     "data": {
      "text/html": [
       "<div>\n",
       "<style scoped>\n",
       "    .dataframe tbody tr th:only-of-type {\n",
       "        vertical-align: middle;\n",
       "    }\n",
       "\n",
       "    .dataframe tbody tr th {\n",
       "        vertical-align: top;\n",
       "    }\n",
       "\n",
       "    .dataframe thead th {\n",
       "        text-align: right;\n",
       "    }\n",
       "</style>\n",
       "<table border=\"1\" class=\"dataframe\">\n",
       "  <thead>\n",
       "    <tr style=\"text-align: right;\">\n",
       "      <th></th>\n",
       "      <th>PassengerId</th>\n",
       "      <th>Survived</th>\n",
       "      <th>Pclass</th>\n",
       "      <th>Sex</th>\n",
       "    </tr>\n",
       "  </thead>\n",
       "  <tbody>\n",
       "    <tr>\n",
       "      <th>0</th>\n",
       "      <td>1</td>\n",
       "      <td>0</td>\n",
       "      <td>3</td>\n",
       "      <td>male</td>\n",
       "    </tr>\n",
       "    <tr>\n",
       "      <th>1</th>\n",
       "      <td>2</td>\n",
       "      <td>1</td>\n",
       "      <td>1</td>\n",
       "      <td>female</td>\n",
       "    </tr>\n",
       "    <tr>\n",
       "      <th>2</th>\n",
       "      <td>3</td>\n",
       "      <td>1</td>\n",
       "      <td>3</td>\n",
       "      <td>female</td>\n",
       "    </tr>\n",
       "    <tr>\n",
       "      <th>3</th>\n",
       "      <td>4</td>\n",
       "      <td>1</td>\n",
       "      <td>1</td>\n",
       "      <td>female</td>\n",
       "    </tr>\n",
       "    <tr>\n",
       "      <th>4</th>\n",
       "      <td>5</td>\n",
       "      <td>0</td>\n",
       "      <td>3</td>\n",
       "      <td>male</td>\n",
       "    </tr>\n",
       "    <tr>\n",
       "      <th>...</th>\n",
       "      <td>...</td>\n",
       "      <td>...</td>\n",
       "      <td>...</td>\n",
       "      <td>...</td>\n",
       "    </tr>\n",
       "    <tr>\n",
       "      <th>886</th>\n",
       "      <td>887</td>\n",
       "      <td>0</td>\n",
       "      <td>2</td>\n",
       "      <td>male</td>\n",
       "    </tr>\n",
       "    <tr>\n",
       "      <th>887</th>\n",
       "      <td>888</td>\n",
       "      <td>1</td>\n",
       "      <td>1</td>\n",
       "      <td>female</td>\n",
       "    </tr>\n",
       "    <tr>\n",
       "      <th>888</th>\n",
       "      <td>889</td>\n",
       "      <td>0</td>\n",
       "      <td>3</td>\n",
       "      <td>female</td>\n",
       "    </tr>\n",
       "    <tr>\n",
       "      <th>889</th>\n",
       "      <td>890</td>\n",
       "      <td>1</td>\n",
       "      <td>1</td>\n",
       "      <td>male</td>\n",
       "    </tr>\n",
       "    <tr>\n",
       "      <th>890</th>\n",
       "      <td>891</td>\n",
       "      <td>0</td>\n",
       "      <td>3</td>\n",
       "      <td>male</td>\n",
       "    </tr>\n",
       "  </tbody>\n",
       "</table>\n",
       "<p>891 rows × 4 columns</p>\n",
       "</div>"
      ],
      "text/plain": [
       "     PassengerId  Survived  Pclass     Sex\n",
       "0              1         0       3    male\n",
       "1              2         1       1  female\n",
       "2              3         1       3  female\n",
       "3              4         1       1  female\n",
       "4              5         0       3    male\n",
       "..           ...       ...     ...     ...\n",
       "886          887         0       2    male\n",
       "887          888         1       1  female\n",
       "888          889         0       3  female\n",
       "889          890         1       1    male\n",
       "890          891         0       3    male\n",
       "\n",
       "[891 rows x 4 columns]"
      ]
     },
     "execution_count": 8,
     "metadata": {},
     "output_type": "execute_result"
    }
   ],
   "source": [
    "import pandas as pd\n",
    "titanic = pd.read_csv(\"train.csv\")\n",
    "X = titanic[['PassengerId','Survived','Pclass','Sex']]\n",
    "X"
   ]
  },
  {
   "cell_type": "markdown",
   "metadata": {
    "id": "VREyy_REoXJ2"
   },
   "source": [
    "1. Запишите в P_fem вероятность, что случайный пассажир «Титаника» — женщина.\n"
   ]
  },
  {
   "cell_type": "code",
   "execution_count": 9,
   "metadata": {
    "id": "SOJB4aMvpdra"
   },
   "outputs": [
    {
     "name": "stdout",
     "output_type": "stream",
     "text": [
      "Sex\n",
      "male      577\n",
      "female    314\n",
      "Name: count, dtype: int64 \n",
      "Вероятность, что случайный пассажир «Титаника» - женщина = 0.352\n"
     ]
    }
   ],
   "source": [
    "sex_data = X[\"Sex\"].value_counts()\n",
    "P_fem = sex_data[\"female\"] / sum(sex_data)\n",
    "\n",
    "print(sex_data, \"\\nВероятность, что случайный пассажир «Титаника» - женщина =\", round(P_fem, 3))"
   ]
  },
  {
   "cell_type": "markdown",
   "metadata": {
    "id": "NrQTNxYbpKod"
   },
   "source": [
    "2. Запишите в P_1class вероятность, что случайный пассажир «Титаника» ехал в первом классе.\n"
   ]
  },
  {
   "cell_type": "code",
   "execution_count": 10,
   "metadata": {
    "id": "G3MuKPrvpgwN"
   },
   "outputs": [
    {
     "name": "stdout",
     "output_type": "stream",
     "text": [
      "Pclass\n",
      "3    491\n",
      "1    216\n",
      "2    184\n",
      "Name: count, dtype: int64 \n",
      "Вероятность, что случайный пассажир «Титаника» ехал в первом классе = 0.242\n"
     ]
    }
   ],
   "source": [
    "class_data = X[\"Pclass\"].value_counts()\n",
    "P_1class = class_data[1] / sum(class_data)\n",
    "\n",
    "print(class_data, \"\\nВероятность, что случайный пассажир «Титаника» ехал в первом классе =\", round(P_1class, 3))"
   ]
  },
  {
   "cell_type": "markdown",
   "metadata": {
    "id": "K621BwxepMms"
   },
   "source": [
    "3. Запишите в P_surv вероятность, что случайный пассажир «Титаника» выжил.\n"
   ]
  },
  {
   "cell_type": "code",
   "execution_count": 11,
   "metadata": {
    "id": "Y_hErf_ypjNQ"
   },
   "outputs": [
    {
     "name": "stdout",
     "output_type": "stream",
     "text": [
      "Survived\n",
      "0    549\n",
      "1    342\n",
      "Name: count, dtype: int64 \n",
      "Вероятность, что случайный пассажир «Титаника» выжил = 0.384\n"
     ]
    }
   ],
   "source": [
    "surv_data = X[\"Survived\"].value_counts()\n",
    "P_surv = surv_data[1] / sum(surv_data)\n",
    "\n",
    "print(surv_data, \"\\nВероятность, что случайный пассажир «Титаника» выжил =\", round(P_surv, 3))"
   ]
  },
  {
   "cell_type": "markdown",
   "metadata": {
    "id": "DpnGD270pP34"
   },
   "source": [
    "4. Запишите в P_fem_surv вероятность, что пассажир — женщина, и одновременно с этим пассажир выжила в катастрофе.\n"
   ]
  },
  {
   "cell_type": "code",
   "execution_count": 12,
   "metadata": {
    "id": "L5eF1s-EplNF"
   },
   "outputs": [
    {
     "name": "stdout",
     "output_type": "stream",
     "text": [
      "Подмножество исходов про пассажир — женщина, и одновременно с этим пассажир выжила в катастрофе:\n",
      "      PassengerId  Survived  Pclass     Sex\n",
      "1              2         1       1  female\n",
      "2              3         1       3  female\n",
      "3              4         1       1  female\n",
      "8              9         1       3  female\n",
      "9             10         1       2  female\n",
      "..           ...       ...     ...     ...\n",
      "874          875         1       2  female\n",
      "875          876         1       3  female\n",
      "879          880         1       1  female\n",
      "880          881         1       2  female\n",
      "887          888         1       1  female\n",
      "\n",
      "[233 rows x 4 columns]\n",
      "\n",
      "Вероятность такого исхода = 0.262\n"
     ]
    }
   ],
   "source": [
    "X_t4 = X[(X[\"Survived\"] == 1) & (X[\"Sex\"] == \"female\")]\n",
    "print(\"Подмножество исходов про пассажир — женщина, и одновременно с этим пассажир выжила в катастрофе:\\n\", X_t4)\n",
    "\n",
    "P_fem_surv = X_t4.shape[0] / X.shape[0]\n",
    "print(\"\\nВероятность такого исхода =\", round(P_fem_surv, 3))"
   ]
  },
  {
   "cell_type": "markdown",
   "metadata": {
    "id": "fZeLtDlQpRW9"
   },
   "source": [
    "5. Найдите условную вероятность того, что пассажир выживет, при условии, если пассажир — женщина.\n"
   ]
  },
  {
   "cell_type": "code",
   "execution_count": 13,
   "metadata": {
    "id": "Im6UwOEzpr_w"
   },
   "outputs": [
    {
     "name": "stdout",
     "output_type": "stream",
     "text": [
      "Вероятность того, что пассажир выживет, при условии, если пассажир — женщина = 0.742\n"
     ]
    }
   ],
   "source": [
    "P_cond_surv_fem = P_fem_surv / P_fem\n",
    "print(\"Вероятность того, что пассажир выживет, при условии, если пассажир — женщина =\", round(P_cond_surv_fem, 3))"
   ]
  },
  {
   "cell_type": "markdown",
   "metadata": {
    "id": "qOs5rtX1pT94"
   },
   "source": [
    "6. По аналогии найдите вероятность того, что пассажир выживет, если пассажир ехал в первом классе.\n"
   ]
  },
  {
   "cell_type": "code",
   "execution_count": 14,
   "metadata": {
    "id": "c5wuOMJAp--_"
   },
   "outputs": [
    {
     "name": "stdout",
     "output_type": "stream",
     "text": [
      "Подмножество исходов про 1класс и одновременно выжил:\n",
      "      PassengerId  Survived  Pclass     Sex\n",
      "1              2         1       1  female\n",
      "3              4         1       1  female\n",
      "11            12         1       1  female\n",
      "23            24         1       1    male\n",
      "31            32         1       1  female\n",
      "..           ...       ...     ...     ...\n",
      "862          863         1       1  female\n",
      "871          872         1       1  female\n",
      "879          880         1       1  female\n",
      "887          888         1       1  female\n",
      "889          890         1       1    male\n",
      "\n",
      "[136 rows x 4 columns]\n",
      "\n",
      "Вероятность такого исхода = 0.153\n",
      "Вероятность, что пассажир выживет, при условии 1 класса путешествия = 0.63\n"
     ]
    }
   ],
   "source": [
    "X_t6 = X[(X[\"Survived\"] == 1) &  (X[\"Pclass\"] == 1)]\n",
    "print(\"Подмножество исходов про 1класс и одновременно выжил:\\n\", X_t6)\n",
    "\n",
    "P_surv_1cl = X_t6.shape[0] / X.shape[0]\n",
    "print(\"\\nВероятность такого исхода =\", round(P_surv_1cl, 3))\n",
    "\n",
    "P_cond_surv_1class = P_surv_1cl / P_1class\n",
    "print(\"Вероятность, что пассажир выживет, при условии 1 класса путешествия =\", round(P_cond_surv_1class, 3))"
   ]
  },
  {
   "cell_type": "markdown",
   "metadata": {
    "id": "t0acZwYNpVjs"
   },
   "source": [
    "7. Найдите вероятность того, что пассажир выживет при условии, что пассажир ехал в первом классе и является женщиной.\n"
   ]
  },
  {
   "cell_type": "code",
   "execution_count": 15,
   "metadata": {
    "id": "bwy-iTMnqONj"
   },
   "outputs": [
    {
     "name": "stdout",
     "output_type": "stream",
     "text": [
      "Вероятность исхода про 1класс и женщина = 0.105\n",
      "Вероятность исхода про про 1класс и женщина, и выжил = 0.102\n",
      "\n",
      "Вероятность, что пассажир выживет, при условии 1 класса и женского пола = 0.968\n"
     ]
    }
   ],
   "source": [
    "X_t7 = X[(X[\"Pclass\"] == 1) & (X[\"Sex\"] == \"female\")]\n",
    "P_1cl_fem = X_t7.shape[0] / X.shape[0]\n",
    "print(\"Вероятность исхода про 1класс и женщина =\", round(P_1cl_fem, 3))\n",
    "\n",
    "X_t7_surv = X[(X[\"Survived\"] == 1) & (X[\"Pclass\"] == 1) & (X[\"Sex\"] == \"female\")]\n",
    "P_surv_1cl_fem = X_t7_surv.shape[0] / X.shape[0]\n",
    "print(\"Вероятность исхода про про 1класс и женщина, и выжил =\", round(P_surv_1cl_fem, 3))\n",
    "\n",
    "P_cond_surv_1class_fem = P_surv_1cl_fem / P_1cl_fem\n",
    "print(\"\\nВероятность, что пассажир выживет, при условии 1 класса и женского пола =\", round(P_cond_surv_1class_fem, 3))"
   ]
  },
  {
   "cell_type": "markdown",
   "metadata": {
    "id": "YUzlJ1SVpXYN"
   },
   "source": [
    "8. Найдите вероятность того, что пассажир выживет при условии, что пассажир ехал во втором классе и является мужчиной.\n"
   ]
  },
  {
   "cell_type": "code",
   "execution_count": 16,
   "metadata": {
    "id": "DWTRkJlHqW1W"
   },
   "outputs": [
    {
     "name": "stdout",
     "output_type": "stream",
     "text": [
      "Вероятность исхода про 2класс и мужчина = 0.121\n",
      "Вероятность исхода про про 2класс и мужчина, и выжил = 0.019\n",
      "\n",
      "Вероятность, что пассажир выживет, при условии 2 класса и мужского пола = 0.157\n"
     ]
    }
   ],
   "source": [
    "X_t8 = X[(X[\"Pclass\"] == 2) & (X[\"Sex\"] == \"male\")]\n",
    "P_2cl_male = X_t8.shape[0] / X.shape[0]\n",
    "print(\"Вероятность исхода про 2класс и мужчина =\", round(P_2cl_male, 3))\n",
    "\n",
    "X_t8_surv = X[(X[\"Survived\"] == 1) & (X[\"Pclass\"] == 2) & (X[\"Sex\"] == \"male\")]\n",
    "P_surv_2cl_male = X_t8_surv.shape[0] / X.shape[0]\n",
    "print(\"Вероятность исхода про про 2класс и мужчина, и выжил =\", round(P_surv_2cl_male, 3))\n",
    "\n",
    "P_cond_surv_2class_male = P_surv_2cl_male / P_2cl_male\n",
    "print(\"\\nВероятность, что пассажир выживет, при условии 2 класса и мужского пола =\", round(P_cond_surv_2class_male, 3))"
   ]
  },
  {
   "cell_type": "markdown",
   "metadata": {
    "id": "8Nbz8Xb0pYuj"
   },
   "source": [
    "9. Используя посчитанные вероятности, найдите вероятность того, что случайно выбранный пассажир — женщина, если мы знаем, что пассажир выжил.\n"
   ]
  },
  {
   "cell_type": "code",
   "execution_count": 17,
   "metadata": {
    "id": "I8JLH18Uql9V"
   },
   "outputs": [
    {
     "name": "stdout",
     "output_type": "stream",
     "text": [
      "\n",
      "Вероятность, что пассажир - женщина, при условии выживания = 0.681\n"
     ]
    }
   ],
   "source": [
    "P_cond_fem_surv = P_fem_surv / P_surv\n",
    "print(\"\\nВероятность, что пассажир - женщина, при условии выживания =\", round(P_cond_fem_surv, 3))"
   ]
  },
  {
   "cell_type": "markdown",
   "metadata": {
    "id": "b5UDgMYKpaMU"
   },
   "source": [
    "10. Используя посчитанные вероятности, найдите вероятность того, что случайно выбранный пассажир ехал в первом классе, если мы знаем, что пассажир выжил.\n"
   ]
  },
  {
   "cell_type": "code",
   "execution_count": 18,
   "metadata": {
    "id": "PcjRugZzqss1"
   },
   "outputs": [
    {
     "name": "stdout",
     "output_type": "stream",
     "text": [
      "\n",
      "Вероятность, что пассажир из 1кл, при условии выживания = 0.398\n"
     ]
    }
   ],
   "source": [
    "P_cond_1class_surv = P_surv_1cl / P_surv\n",
    "print(\"\\nВероятность, что пассажир из 1кл, при условии выживания =\", round(P_cond_1class_surv, 3))"
   ]
  },
  {
   "cell_type": "markdown",
   "metadata": {
    "id": "yQHFXtulpbwm"
   },
   "source": [
    "11. Сравните полученные вероятности с безусловными вероятностями соответствующих событий. Объясните разницу в значениях."
   ]
  },
  {
   "cell_type": "code",
   "execution_count": 19,
   "metadata": {},
   "outputs": [
    {
     "name": "stdout",
     "output_type": "stream",
     "text": [
      "Средний шанс на выживание на рейсе = 0.384\n",
      "Средний шанс на выживание для женщин  = 0.742\n",
      "\n",
      "Безусловная вероятность быть выжившей женщиной = 0.262\n",
      "Условная вероятность оказаться женщиной при выживании = 0.681\n"
     ]
    }
   ],
   "source": [
    "print(\"Средний шанс на выживание на рейсе =\", round(P_surv,3))\n",
    "print(\"Средний шанс на выживание для женщин  =\", round(P_cond_surv_fem,3))\n",
    "\n",
    "print(\"\\nБезусловная вероятность быть выжившей женщиной =\", round(P_fem_surv,3))\n",
    "print(\"Условная вероятность оказаться женщиной при выживании =\", round(P_cond_fem_surv, 3))"
   ]
  },
  {
   "cell_type": "markdown",
   "metadata": {},
   "source": [
    "Женщин выжило непропорционально много (74% вместо 38%), поэтому при условии \"пассажир выжил\" условная вероятность \"это была женщина\" получается выше, чем безусловная. Логично  "
   ]
  },
  {
   "cell_type": "code",
   "execution_count": 20,
   "metadata": {
    "id": "rNgeDAeeq3SM"
   },
   "outputs": [
    {
     "name": "stdout",
     "output_type": "stream",
     "text": [
      "Средний шанс на выживание на рейсе = 0.384\n",
      "Средний шанс на выживание для 1кл  = 0.63\n",
      "\n",
      "Безусловная вероятность быть выжившим 1кл = 0.153\n",
      "Условная вероятность оказаться 1кл при условии выживании = 0.398\n"
     ]
    }
   ],
   "source": [
    "print(\"Средний шанс на выживание на рейсе =\", round(P_surv,3))\n",
    "print(\"Средний шанс на выживание для 1кл  =\", round(P_cond_surv_1class,3))\n",
    "\n",
    "print(\"\\nБезусловная вероятность быть выжившим 1кл =\", round(P_surv_1cl,3))\n",
    "print(\"Условная вероятность оказаться 1кл при условии выживании =\", round(P_cond_1class_surv, 3))"
   ]
  },
  {
   "cell_type": "markdown",
   "metadata": {},
   "source": [
    "Пассажиров 1 класса выжило непропорционально много (63% вместо 38%), поэтому при условии \"пассажир выжил\" условная вероятность \"являться пассажиром 1 класса\" оказалась выше, чем безусловная. Логично  "
   ]
  },
  {
   "cell_type": "markdown",
   "metadata": {
    "id": "uPoHizfkrDDx"
   },
   "source": [
    "### **Задание 3**\n",
    "Рассмотрим датасет со статистикой почтового ящика `letters.xlsx`. Данные можно найти в материалах к практической работе. Там содержится 248 записей с информацией о письмах. \n",
    "\n",
    "Нам хочется узнать, является ли новое письмо, пришедшее к нам на почту, спамом. Для этого у нас существует статистика писем. Каждое пришедшее письмо может быть либо спамом, либо нет. При этом и спам, и нормальные письма могут содержать слова, характерные для спам-писем. Данный датасет представляет собой набор записей с информацией о пришедших ранее письмах, распознанных человеком как спам или нет. \n",
    "\n",
    "\n"
   ]
  },
  {
   "cell_type": "code",
   "execution_count": 21,
   "metadata": {
    "colab": {
     "base_uri": "https://localhost:8080/",
     "height": 455
    },
    "id": "97q3xYj7a2On",
    "outputId": "fd7d7b10-c391-4ebe-dda4-0199fa8767f3"
   },
   "outputs": [
    {
     "data": {
      "text/html": [
       "<div>\n",
       "<style scoped>\n",
       "    .dataframe tbody tr th:only-of-type {\n",
       "        vertical-align: middle;\n",
       "    }\n",
       "\n",
       "    .dataframe tbody tr th {\n",
       "        vertical-align: top;\n",
       "    }\n",
       "\n",
       "    .dataframe thead th {\n",
       "        text-align: right;\n",
       "    }\n",
       "</style>\n",
       "<table border=\"1\" class=\"dataframe\">\n",
       "  <thead>\n",
       "    <tr style=\"text-align: right;\">\n",
       "      <th></th>\n",
       "      <th>spam</th>\n",
       "      <th>spam_words</th>\n",
       "    </tr>\n",
       "    <tr>\n",
       "      <th>id_letter</th>\n",
       "      <th></th>\n",
       "      <th></th>\n",
       "    </tr>\n",
       "  </thead>\n",
       "  <tbody>\n",
       "    <tr>\n",
       "      <th>1</th>\n",
       "      <td>да</td>\n",
       "      <td>нет</td>\n",
       "    </tr>\n",
       "    <tr>\n",
       "      <th>2</th>\n",
       "      <td>да</td>\n",
       "      <td>да</td>\n",
       "    </tr>\n",
       "    <tr>\n",
       "      <th>3</th>\n",
       "      <td>нет</td>\n",
       "      <td>нет</td>\n",
       "    </tr>\n",
       "    <tr>\n",
       "      <th>4</th>\n",
       "      <td>нет</td>\n",
       "      <td>да</td>\n",
       "    </tr>\n",
       "    <tr>\n",
       "      <th>5</th>\n",
       "      <td>да</td>\n",
       "      <td>да</td>\n",
       "    </tr>\n",
       "    <tr>\n",
       "      <th>...</th>\n",
       "      <td>...</td>\n",
       "      <td>...</td>\n",
       "    </tr>\n",
       "    <tr>\n",
       "      <th>244</th>\n",
       "      <td>нет</td>\n",
       "      <td>нет</td>\n",
       "    </tr>\n",
       "    <tr>\n",
       "      <th>245</th>\n",
       "      <td>нет</td>\n",
       "      <td>нет</td>\n",
       "    </tr>\n",
       "    <tr>\n",
       "      <th>246</th>\n",
       "      <td>нет</td>\n",
       "      <td>нет</td>\n",
       "    </tr>\n",
       "    <tr>\n",
       "      <th>247</th>\n",
       "      <td>нет</td>\n",
       "      <td>нет</td>\n",
       "    </tr>\n",
       "    <tr>\n",
       "      <th>248</th>\n",
       "      <td>нет</td>\n",
       "      <td>нет</td>\n",
       "    </tr>\n",
       "  </tbody>\n",
       "</table>\n",
       "<p>248 rows × 2 columns</p>\n",
       "</div>"
      ],
      "text/plain": [
       "          spam spam_words\n",
       "id_letter                \n",
       "1           да        нет\n",
       "2           да         да\n",
       "3          нет        нет\n",
       "4          нет         да\n",
       "5           да         да\n",
       "...        ...        ...\n",
       "244        нет        нет\n",
       "245        нет        нет\n",
       "246        нет        нет\n",
       "247        нет        нет\n",
       "248        нет        нет\n",
       "\n",
       "[248 rows x 2 columns]"
      ]
     },
     "execution_count": 21,
     "metadata": {},
     "output_type": "execute_result"
    }
   ],
   "source": [
    "df = pd.read_excel('letters.xlsx', sheet_name='Sheet1', index_col='id_letter')\n",
    "df"
   ]
  },
  {
   "cell_type": "markdown",
   "metadata": {
    "id": "VXZ48zp6s34j"
   },
   "source": [
    "Столбец `spam` отвечает на вопрос, является письмо спамом или нет, `spam_words` — содержит ли оно слова, встречающиеся в спам-письмах.\n",
    "\n",
    "1. Найдите долю спам-писем по отношению ко всем.\n",
    "\n"
   ]
  },
  {
   "cell_type": "code",
   "execution_count": 22,
   "metadata": {
    "id": "2-Xbar2xs_An"
   },
   "outputs": [
    {
     "name": "stdout",
     "output_type": "stream",
     "text": [
      "spam\n",
      "нет    160\n",
      "да      88\n",
      "Name: count, dtype: int64 \n",
      "Доля спам-писем = 0.355\n"
     ]
    }
   ],
   "source": [
    "spam_data = df[\"spam\"].value_counts()\n",
    "P_spam = spam_data[\"да\"] / sum(spam_data)\n",
    "\n",
    "print(spam_data, \"\\nДоля спам-писем =\", round(P_spam, 3))"
   ]
  },
  {
   "cell_type": "markdown",
   "metadata": {
    "id": "K0FHedEys_au"
   },
   "source": [
    "2. Найдите долю писем со спам-подобными словами по отношению ко всем.\n"
   ]
  },
  {
   "cell_type": "code",
   "execution_count": 23,
   "metadata": {
    "id": "USOq8sNutCxC"
   },
   "outputs": [
    {
     "name": "stdout",
     "output_type": "stream",
     "text": [
      "spam_words\n",
      "нет    155\n",
      "да      93\n",
      "Name: count, dtype: int64 \n",
      "Доля писем со спам-словами = 0.375\n"
     ]
    }
   ],
   "source": [
    "words = df[\"spam_words\"].value_counts()\n",
    "P_words = words[\"да\"] / sum(words)\n",
    "\n",
    "print(words, \"\\nДоля писем со спам-словами =\", round(P_words, 3))"
   ]
  },
  {
   "cell_type": "markdown",
   "metadata": {
    "id": "x8OiJqvCtDCD"
   },
   "source": [
    "3. Найдите вероятность, что письмо содержит спам-подобные слова при условии, что оно является спамом.\n"
   ]
  },
  {
   "cell_type": "code",
   "execution_count": 24,
   "metadata": {
    "id": "4IwG20wNtGQ1"
   },
   "outputs": [
    {
     "name": "stdout",
     "output_type": "stream",
     "text": [
      "\n",
      "Вероятность наличия спам-слов для спама = 0.364\n"
     ]
    }
   ],
   "source": [
    "words_spam = df[(df[\"spam\"] == \"да\") & (df[\"spam_words\"] == \"да\")]\n",
    "P_words_spam = words_spam.shape[0] / df.shape[0]\n",
    "\n",
    "P_cond_words_spam = P_words_spam / P_spam\n",
    "print(\"\\nВероятность наличия спам-слов для спама =\", round(P_cond_words_spam, 3))"
   ]
  },
  {
   "cell_type": "markdown",
   "metadata": {
    "id": "ruU9vLPVtGoK"
   },
   "source": [
    "4. Найдите вероятность, что письмо является спамом при условии, что оно содержит спам-подобные слова.\n"
   ]
  },
  {
   "cell_type": "code",
   "execution_count": 25,
   "metadata": {
    "id": "q93GX-X6tJOT"
   },
   "outputs": [
    {
     "name": "stdout",
     "output_type": "stream",
     "text": [
      "\n",
      "Вероятность, что письмо является спамом, при условии наличия спам-слов = 0.344\n"
     ]
    }
   ],
   "source": [
    "P_cond_spam_words = P_words_spam / P_words\n",
    "print(\"\\nВероятность, что письмо является спамом, при условии наличия спам-слов =\", round(P_cond_spam_words, 3))"
   ]
  },
  {
   "cell_type": "markdown",
   "metadata": {},
   "source": [
    "### Вывод\n",
    "Вероятность выбрать спам-письмо взяв случайное письмо = 0.355\n",
    "<p>\n",
    "Вероятность выбрать спам-письмо взяв \"подозрительное\" письмо = 0.344\n",
    "<p>\n",
    "Метод маркировки \"подозрительных\" писем выбран неудачно("
   ]
  }
 ],
 "metadata": {
  "colab": {
   "provenance": []
  },
  "kernelspec": {
   "display_name": "Python 3 (ipykernel)",
   "language": "python",
   "name": "python3"
  },
  "language_info": {
   "codemirror_mode": {
    "name": "ipython",
    "version": 3
   },
   "file_extension": ".py",
   "mimetype": "text/x-python",
   "name": "python",
   "nbconvert_exporter": "python",
   "pygments_lexer": "ipython3",
   "version": "3.11.5"
  }
 },
 "nbformat": 4,
 "nbformat_minor": 1
}
