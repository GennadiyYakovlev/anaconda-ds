{
 "cells": [
  {
   "cell_type": "code",
   "execution_count": 15,
   "id": "fe36f174",
   "metadata": {},
   "outputs": [],
   "source": [
    "%matplotlib inline\n",
    "\n",
    "from sympy import*\n",
    "from sympy.solvers.solveset import linsolve\n",
    "from sympy.solvers.inequalities import solve_univariate_inequality\n",
    "import matplotlib.pyplot as plt\n",
    "import numpy as np\n",
    "import math\n",
    "\n",
    "init_printing(use_unicode = False, wrap_line = False, no_global=True)"
   ]
  },
  {
   "cell_type": "code",
   "execution_count": 2,
   "id": "e87b2783",
   "metadata": {},
   "outputs": [],
   "source": [
    "x = Symbol(\"x\")"
   ]
  },
  {
   "cell_type": "code",
   "execution_count": 3,
   "id": "d6a7f5e2",
   "metadata": {},
   "outputs": [],
   "source": [
    "f = 6**x + 3*x**3 + 5"
   ]
  },
  {
   "cell_type": "code",
   "execution_count": 6,
   "id": "4dc5ab71",
   "metadata": {},
   "outputs": [],
   "source": [
    "f_diff = 6**x*ln(6) + 9*x**2"
   ]
  },
  {
   "cell_type": "code",
   "execution_count": 7,
   "id": "e592b01b",
   "metadata": {},
   "outputs": [
    {
     "data": {
      "image/png": "[encoded data removed]",
      "text/latex": [
       "$\\displaystyle 6^{x} \\log{\\left(6 \\right)} + 9 x^{2}$"
      ],
      "text/plain": [
       " x             2\n",
       "6 *log(6) + 9*x "
      ]
     },
     "execution_count": 7,
     "metadata": {},
     "output_type": "execute_result"
    }
   ],
   "source": [
    "f_diff.simplify()"
   ]
  },
  {
   "cell_type": "code",
   "execution_count": 8,
   "id": "aeb02e15",
   "metadata": {},
   "outputs": [
    {
     "data": {
      "image/png": "[encoded data removed]",
      "text/latex": [
       "$\\displaystyle 6^{x} \\log{\\left(6 \\right)} + 9 x^{2}$"
      ],
      "text/plain": [
       " x             2\n",
       "6 *log(6) + 9*x "
      ]
     },
     "execution_count": 8,
     "metadata": {},
     "output_type": "execute_result"
    }
   ],
   "source": [
    "f.diff()"
   ]
  },
  {
   "cell_type": "code",
   "execution_count": 17,
   "id": "9e1ea6e2",
   "metadata": {},
   "outputs": [],
   "source": [
    "f2 = 5*x*math.e**x"
   ]
  },
  {
   "cell_type": "code",
   "execution_count": 18,
   "id": "b2ab4778",
   "metadata": {},
   "outputs": [
    {
     "data": {
      "image/png": "[encoded data removed]",
      "text/latex": [
       "$\\displaystyle 5 \\cdot 2.71828182845905^{x} x$"
      ],
      "text/plain": [
       "                  x  \n",
       "5*2.71828182845905 *x"
      ]
     },
     "execution_count": 18,
     "metadata": {},
     "output_type": "execute_result"
    }
   ],
   "source": [
    "f2.simplify()"
   ]
  },
  {
   "cell_type": "code",
   "execution_count": 21,
   "id": "a934648f",
   "metadata": {},
   "outputs": [
    {
     "data": {
      "image/png": "[encoded data removed]",
      "text/latex": [
       "$\\displaystyle 5 \\cdot 2.71828182845905^{x} \\left(x + 1\\right)$"
      ],
      "text/plain": [
       "                  x        \n",
       "5*2.71828182845905 *(x + 1)"
      ]
     },
     "execution_count": 21,
     "metadata": {},
     "output_type": "execute_result"
    }
   ],
   "source": [
    "f2_diff = 5*math.e**x + 5*x*math.e**x\n",
    "f2_diff.simplify()"
   ]
  },
  {
   "cell_type": "code",
   "execution_count": 23,
   "id": "e21d19df",
   "metadata": {},
   "outputs": [
    {
     "data": {
      "image/png": "[encoded data removed]",
      "text/latex": [
       "$\\displaystyle 2.71828182845905^{x} \\left(5.0 x + 5\\right)$"
      ],
      "text/plain": [
       "                x            \n",
       "2.71828182845905 *(5.0*x + 5)"
      ]
     },
     "execution_count": 23,
     "metadata": {},
     "output_type": "execute_result"
    }
   ],
   "source": [
    "f2.diff().simplify()"
   ]
  },
  {
   "cell_type": "code",
   "execution_count": 25,
   "id": "8a591d62",
   "metadata": {},
   "outputs": [
    {
     "data": {
      "image/png": "[encoded data removed]",
      "text/latex": [
       "$\\displaystyle 3.14159265358979^{x} + 2 \\sin{\\left(x \\right)}$"
      ],
      "text/plain": [
       "                x           \n",
       "3.14159265358979  + 2*sin(x)"
      ]
     },
     "execution_count": 25,
     "metadata": {},
     "output_type": "execute_result"
    }
   ],
   "source": [
    "f3 = math.pi**x + 2*sin(x)\n",
    "f3"
   ]
  },
  {
   "cell_type": "code",
   "execution_count": 27,
   "id": "aa12f6f1",
   "metadata": {},
   "outputs": [
    {
     "data": {
      "image/png": "[encoded data removed]",
      "text/latex": [
       "$\\displaystyle 1.1447298858494 \\cdot 3.14159265358979^{x} + 2 \\cos{\\left(x \\right)}$"
      ],
      "text/plain": [
       "                                x           \n",
       "1.1447298858494*3.14159265358979  + 2*cos(x)"
      ]
     },
     "execution_count": 27,
     "metadata": {},
     "output_type": "execute_result"
    }
   ],
   "source": [
    "f3_diff = log(math.pi)*math.pi**x + 2*cos(x)\n",
    "f3_diff"
   ]
  },
  {
   "cell_type": "code",
   "execution_count": 28,
   "id": "ce47a3f9",
   "metadata": {},
   "outputs": [
    {
     "data": {
      "image/png": "[encoded data removed]",
      "text/latex": [
       "$\\displaystyle 1.1447298858494 \\cdot 3.14159265358979^{x} + 2 \\cos{\\left(x \\right)}$"
      ],
      "text/plain": [
       "                                x           \n",
       "1.1447298858494*3.14159265358979  + 2*cos(x)"
      ]
     },
     "execution_count": 28,
     "metadata": {},
     "output_type": "execute_result"
    }
   ],
   "source": [
    "f3.diff()"
   ]
  },
  {
   "cell_type": "code",
   "execution_count": 29,
   "id": "dd957614",
   "metadata": {},
   "outputs": [
    {
     "data": {
      "image/png": "[encoded data removed]",
      "text/latex": [
       "$\\displaystyle \\frac{x^{2}}{\\sin{\\left(x \\right)}}$"
      ],
      "text/plain": [
       "   2  \n",
       "  x   \n",
       "------\n",
       "sin(x)"
      ]
     },
     "execution_count": 29,
     "metadata": {},
     "output_type": "execute_result"
    }
   ],
   "source": [
    "f4 = x**2 / sin(x)\n",
    "f4"
   ]
  },
  {
   "cell_type": "code",
   "execution_count": 30,
   "id": "9d0a1a2d",
   "metadata": {},
   "outputs": [
    {
     "data": {
      "image/png": "[encoded data removed]",
      "text/latex": [
       "$\\displaystyle \\frac{- x^{2} \\cos{\\left(x \\right)} + 2 x \\sin{\\left(x \\right)}}{\\sin^{2}{\\left(x \\right)}}$"
      ],
      "text/plain": [
       "   2                    \n",
       "- x *cos(x) + 2*x*sin(x)\n",
       "------------------------\n",
       "           2            \n",
       "        sin (x)         "
      ]
     },
     "execution_count": 30,
     "metadata": {},
     "output_type": "execute_result"
    }
   ],
   "source": [
    "f4_diff = (2*x*sin(x) - x**2*cos(x)) / sin(x)**2\n",
    "f4_diff"
   ]
  },
  {
   "cell_type": "code",
   "execution_count": 31,
   "id": "4f2ab834",
   "metadata": {},
   "outputs": [
    {
     "data": {
      "image/png": "[encoded data removed]",
      "text/latex": [
       "$\\displaystyle - \\frac{x^{2} \\cos{\\left(x \\right)}}{\\sin^{2}{\\left(x \\right)}} + \\frac{2 x}{\\sin{\\left(x \\right)}}$"
      ],
      "text/plain": [
       "   2                \n",
       "  x *cos(x)    2*x  \n",
       "- --------- + ------\n",
       "      2       sin(x)\n",
       "   sin (x)          "
      ]
     },
     "execution_count": 31,
     "metadata": {},
     "output_type": "execute_result"
    }
   ],
   "source": [
    "f4.diff()"
   ]
  },
  {
   "cell_type": "code",
   "execution_count": 32,
   "id": "04224e2d",
   "metadata": {},
   "outputs": [
    {
     "data": {
      "image/png": "[encoded data removed]",
      "text/latex": [
       "$\\displaystyle 2.71828182845905^{2 x}$"
      ],
      "text/plain": [
       "                2*x\n",
       "2.71828182845905   "
      ]
     },
     "execution_count": 32,
     "metadata": {},
     "output_type": "execute_result"
    }
   ],
   "source": [
    "f5 = math.e**(2*x)\n",
    "f5"
   ]
  },
  {
   "cell_type": "code",
   "execution_count": 34,
   "id": "914c536c",
   "metadata": {},
   "outputs": [
    {
     "data": {
      "image/png": "[encoded data removed]",
      "text/latex": [
       "$\\displaystyle 2 \\cdot 2.71828182845905^{2 x}$"
      ],
      "text/plain": [
       "                  2*x\n",
       "2*2.71828182845905   "
      ]
     },
     "execution_count": 34,
     "metadata": {},
     "output_type": "execute_result"
    }
   ],
   "source": [
    "f5_diff = math.e**(2*x)*2\n",
    "f5_diff"
   ]
  },
  {
   "cell_type": "code",
   "execution_count": 35,
   "id": "b7f2fd27",
   "metadata": {},
   "outputs": [
    {
     "data": {
      "image/png": "[encoded data removed]",
      "text/latex": [
       "$\\displaystyle 2.0 \\cdot 2.71828182845905^{2 x}$"
      ],
      "text/plain": [
       "                    2*x\n",
       "2.0*2.71828182845905   "
      ]
     },
     "execution_count": 35,
     "metadata": {},
     "output_type": "execute_result"
    }
   ],
   "source": [
    "f5.diff()"
   ]
  },
  {
   "cell_type": "code",
   "execution_count": 38,
   "id": "6a66fd19",
   "metadata": {},
   "outputs": [
    {
     "data": {
      "image/png": "[encoded data removed]",
      "text/latex": [
       "$\\displaystyle 5 \\cdot 2.71828182845905^{- 3 x} x^{3}$"
      ],
      "text/plain": [
       "                  -3*x  3\n",
       "5*2.71828182845905    *x "
      ]
     },
     "execution_count": 38,
     "metadata": {},
     "output_type": "execute_result"
    }
   ],
   "source": [
    "f6 = 5*x**3 / math.e**(3*x)\n",
    "f6"
   ]
  },
  {
   "cell_type": "code",
   "execution_count": 40,
   "id": "d4cf923c",
   "metadata": {},
   "outputs": [
    {
     "data": {
      "image/png": "[encoded data removed]",
      "text/latex": [
       "$\\displaystyle 2.71828182845905^{- 6 x} \\left(- 15 \\cdot 2.71828182845905^{3 x} x^{3} + 15 \\cdot 2.71828182845905^{3 x} x^{2}\\right)$"
      ],
      "text/plain": [
       "                -6*x /                     3*x  3                      3*x  2\\\n",
       "2.71828182845905    *\\- 15*2.71828182845905   *x  + 15*2.71828182845905   *x /"
      ]
     },
     "execution_count": 40,
     "metadata": {},
     "output_type": "execute_result"
    }
   ],
   "source": [
    "f6_diff = (15 * x**2 * math.e**(3*x) - 5 * x**3 * 3 * math.e**(3*x)) / math.e**(6*x)\n",
    "f6_diff"
   ]
  }
 ],
 "metadata": {
  "kernelspec": {
   "display_name": "Python 3 (ipykernel)",
   "language": "python",
   "name": "python3"
  },
  "language_info": {
   "codemirror_mode": {
    "name": "ipython",
    "version": 3
   },
   "file_extension": ".py",
   "mimetype": "text/x-python",
   "name": "python",
   "nbconvert_exporter": "python",
   "pygments_lexer": "ipython3",
   "version": "3.11.5"
  }
 },
 "nbformat": 4,
 "nbformat_minor": 5
}
