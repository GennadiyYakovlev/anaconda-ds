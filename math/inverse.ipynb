{
 "cells": [
  {
   "cell_type": "code",
   "execution_count": null,
   "metadata": {
    "id": "jR3zwgLMMzS2"
   },
   "outputs": [],
   "source": [
    "from sympy import *"
   ]
  },
  {
   "cell_type": "code",
   "execution_count": null,
   "metadata": {
    "id": "QSEQbhhxMzTB",
    "outputId": "b4b403a4-ddf6-4981-f3ef-6090715a771f"
   },
   "outputs": [
    {
     "data": {
      "text/latex": [
       "$\\displaystyle \\left[\\begin{matrix}5.0 & 7.0 & -5.0\\\\0.0 & -2.0 & 2.0\\\\-4.0 & -8.0 & -7.0\\\\1.0 & 1.0 & 2.0\\\\2.0 & -1.0 & 2.0\\\\4.0 & 1.0 & 4.0\\end{matrix}\\right]$"
      ],
      "text/plain": [
       "Matrix([\n",
       "[ 5.0,  7.0, -5.0],\n",
       "[ 0.0, -2.0,  2.0],\n",
       "[-4.0, -8.0, -7.0],\n",
       "[ 1.0,  1.0,  2.0],\n",
       "[ 2.0, -1.0,  2.0],\n",
       "[ 4.0,  1.0,  4.0]])"
      ]
     },
     "execution_count": 15,
     "metadata": {
      "tags": []
     },
     "output_type": "execute_result"
    }
   ],
   "source": [
    "X = Matrix([[ 5.0,  7.0, -5.0],\n",
    "            [ 0.0, -2.0,  2.0],\n",
    "            [-4.0, -8.0, -7.0],\n",
    "            [ 1.0,  1.0,  2.0],\n",
    "            [ 2.0, -1.0,  2.0],\n",
    "            [ 4.0,  1.0,  4.0]])\n",
    "X"
   ]
  },
  {
   "cell_type": "code",
   "execution_count": null,
   "metadata": {
    "id": "bSkkN8gRMzTL",
    "outputId": "3b70d5d4-0fce-4599-baf9-4fbbe3607d02"
   },
   "outputs": [
    {
     "data": {
      "text/latex": [
       "$\\displaystyle \\left[\\begin{matrix}-47.0\\\\10.0\\\\63.0\\\\-1.0\\\\-4.0\\\\-2.0\\end{matrix}\\right]$"
      ],
      "text/plain": [
       "Matrix([\n",
       "[-47.0],\n",
       "[ 10.0],\n",
       "[ 63.0],\n",
       "[ -1.0],\n",
       "[ -4.0],\n",
       "[ -2.0]])"
      ]
     },
     "execution_count": 6,
     "metadata": {
      "tags": []
     },
     "output_type": "execute_result"
    }
   ],
   "source": [
    "b = Matrix([-47.0, 10.0, 63.0, -1.0, -4.0, -2.0])\n",
    "b"
   ]
  },
  {
   "cell_type": "code",
   "execution_count": null,
   "metadata": {
    "id": "7kNk_ezcMzTS",
    "outputId": "c4991262-0688-4c92-dbec-85abdea105a8"
   },
   "outputs": [
    {
     "data": {
      "text/latex": [
       "$\\displaystyle \\left[\\begin{matrix}5.0 & 0.0 & -4.0 & 1.0 & 2.0 & 4.0\\\\7.0 & -2.0 & -8.0 & 1.0 & -1.0 & 1.0\\\\-5.0 & 2.0 & -7.0 & 2.0 & 2.0 & 4.0\\end{matrix}\\right]$"
      ],
      "text/plain": [
       "Matrix([\n",
       "[ 5.0,  0.0, -4.0, 1.0,  2.0, 4.0],\n",
       "[ 7.0, -2.0, -8.0, 1.0, -1.0, 1.0],\n",
       "[-5.0,  2.0, -7.0, 2.0,  2.0, 4.0]])"
      ]
     },
     "execution_count": 16,
     "metadata": {
      "tags": []
     },
     "output_type": "execute_result"
    }
   ],
   "source": [
    "X.T"
   ]
  },
  {
   "cell_type": "code",
   "execution_count": null,
   "metadata": {
    "id": "jwW6YKQSMzTY",
    "outputId": "4e4b6494-388a-443a-fbbb-c0350b4db63a"
   },
   "outputs": [
    {
     "data": {
      "text/latex": [
       "$\\displaystyle \\left[\\begin{matrix}62.0 & 70.0 & 25.0\\\\70.0 & 120.0 & 21.0\\\\25.0 & 21.0 & 102.0\\end{matrix}\\right]$"
      ],
      "text/plain": [
       "Matrix([\n",
       "[62.0,  70.0,  25.0],\n",
       "[70.0, 120.0,  21.0],\n",
       "[25.0,  21.0, 102.0]])"
      ]
     },
     "execution_count": 20,
     "metadata": {
      "tags": []
     },
     "output_type": "execute_result"
    }
   ],
   "source": [
    "mul = X.T * X\n",
    "mul"
   ]
  },
  {
   "cell_type": "code",
   "execution_count": null,
   "metadata": {
    "id": "Jj-mVPYQMzTd",
    "outputId": "e1e9e280-ac09-4d53-c17d-62be784c9ff9"
   },
   "outputs": [
    {
     "data": {
      "text/latex": [
       "$\\displaystyle 230238.0$"
      ],
      "text/plain": [
       "230238.000000000"
      ]
     },
     "execution_count": 22,
     "metadata": {
      "tags": []
     },
     "output_type": "execute_result"
    }
   ],
   "source": [
    "mul.det()"
   ]
  },
  {
   "cell_type": "code",
   "execution_count": null,
   "metadata": {
    "id": "-ux8-tzmMzTj",
    "outputId": "bab32601-5fff-42a2-9f65-5aa3899ada8d"
   },
   "outputs": [
    {
     "data": {
      "text/latex": [
       "$\\displaystyle \\left[\\begin{matrix}0.0512469705261512 & -0.0287311390821671 & -0.00664529747478696\\\\-0.0287311390821671 & 0.0247526472606607 & 0.00194581259392455\\\\-0.00664529747478696 & 0.00194581259392455 & 0.0110320624744829\\end{matrix}\\right]$"
      ],
      "text/plain": [
       "Matrix([\n",
       "[  0.0512469705261512, -0.0287311390821671, -0.00664529747478696],\n",
       "[ -0.0287311390821671,  0.0247526472606607,  0.00194581259392455],\n",
       "[-0.00664529747478696, 0.00194581259392455,   0.0110320624744829]])"
      ]
     },
     "execution_count": 23,
     "metadata": {
      "tags": []
     },
     "output_type": "execute_result"
    }
   ],
   "source": [
    "(X.T * X)**(-1)"
   ]
  },
  {
   "cell_type": "code",
   "execution_count": null,
   "metadata": {
    "id": "D9ZokeJuMzTr",
    "outputId": "412ef0b2-7e58-4554-a4c5-03915110719d"
   },
   "outputs": [
    {
     "data": {
      "text/latex": [
       "$\\displaystyle \\left[\\begin{matrix}0.0883433664295208 & 0.0441716832147604 & 0.0713783128762411 & 0.00922523649441014 & 0.117934485184896 & 0.14967555312329\\\\0.0198837724441665 & -0.0456136693334723 & -0.0967173099140889 & -8.68666336573446 \\cdot 10^{-5} & -0.0783233002371459 & -0.0823886586923097\\\\-0.0747661115888776 & 0.0181724997611168 & -0.066209748173629 & 0.0173646400681034 & 0.00682771740546738 & 0.0194928725927084\\end{matrix}\\right]$"
      ],
      "text/plain": [
       "Matrix([\n",
       "[ 0.0883433664295208,  0.0441716832147604,  0.0713783128762411,  0.00922523649441014,   0.117934485184896,    0.14967555312329],\n",
       "[ 0.0198837724441665, -0.0456136693334723, -0.0967173099140889, -8.68666336573446e-5, -0.0783233002371459, -0.0823886586923097],\n",
       "[-0.0747661115888776,  0.0181724997611168,  -0.066209748173629,   0.0173646400681034, 0.00682771740546738,  0.0194928725927084]])"
      ]
     },
     "execution_count": 24,
     "metadata": {
      "tags": []
     },
     "output_type": "execute_result"
    }
   ],
   "source": [
    "X_pseudo_inverse = (X.T * X)**(-1) * X.T\n",
    "X_pseudo_inverse"
   ]
  },
  {
   "cell_type": "code",
   "execution_count": null,
   "metadata": {
    "id": "uCnDqxy9MzTy",
    "outputId": "946fc2c1-9ad2-4b38-b927-86f882de42d5"
   },
   "outputs": [
    {
     "data": {
      "text/latex": [
       "$\\displaystyle \\left[\\begin{matrix}0.00609803768274186\\\\-7.00570713783129\\\\-0.559143147525604\\end{matrix}\\right]$"
      ],
      "text/plain": [
       "Matrix([\n",
       "[0.00609803768274186],\n",
       "[  -7.00570713783129],\n",
       "[ -0.559143147525604]])"
      ]
     },
     "execution_count": 25,
     "metadata": {
      "tags": []
     },
     "output_type": "execute_result"
    }
   ],
   "source": [
    "best_point = X_pseudo_inverse * b\n",
    "best_point"
   ]
  },
  {
   "cell_type": "code",
   "execution_count": null,
   "metadata": {
    "id": "ZsYBSVxeMzT4",
    "outputId": "f1e00b2e-a9f8-4075-83ae-88724eed883e"
   },
   "outputs": [
    {
     "data": {
      "text/latex": [
       "$\\displaystyle 1049.83333333333$"
      ],
      "text/plain": [
       "1049.83333333333"
      ]
     },
     "execution_count": 9,
     "metadata": {
      "tags": []
     },
     "output_type": "execute_result"
    }
   ],
   "source": [
    "x, y, z = symbols('x, y, z')\n",
    "\n",
    "MSE = 1 / 6 * ((5 * x + 7 * y - 5 * z + 47)**2 + \\\n",
    "               (- 2 * y + 2 * z - 10)**2 + \\\n",
    "               (-4 * x - 8 * y - 7 * z - 63)**2 + \\\n",
    "               (x + y + 2 * z + 1)**2 + \\\n",
    "               (2 * x - y + 2 * z + 4)**2 + \\\n",
    "               (4 * x + y + 4 * z + 2)**2)\n",
    "MSE.subs({x: 0, y: 0, z: 0})"
   ]
  },
  {
   "cell_type": "code",
   "execution_count": null,
   "metadata": {
    "id": "DfNEE6VGMzT-",
    "outputId": "4d782539-846d-457e-9780-051f8b2f3195"
   },
   "outputs": [
    {
     "data": {
      "text/latex": [
       "$\\displaystyle 36.5242879107706$"
      ],
      "text/plain": [
       "36.5242879107706"
      ]
     },
     "execution_count": 10,
     "metadata": {
      "tags": []
     },
     "output_type": "execute_result"
    }
   ],
   "source": [
    "MSE.subs({x: best_point[0], y: best_point[1], z: best_point[2]})"
   ]
  }
 ],
 "metadata": {
  "colab": {
   "provenance": [
    {
     "file_id": "1zkH0fNebQZi04sGqNI8CzaX-GcpErYzf",
     "timestamp": 1710434196386
    }
   ]
  },
  "kernelspec": {
   "display_name": "Python 3 (ipykernel)",
   "language": "python",
   "name": "python3"
  },
  "language_info": {
   "codemirror_mode": {
    "name": "ipython",
    "version": 3
   },
   "file_extension": ".py",
   "mimetype": "text/x-python",
   "name": "python",
   "nbconvert_exporter": "python",
   "pygments_lexer": "ipython3",
   "version": "3.11.5"
  }
 },
 "nbformat": 4,
 "nbformat_minor": 1
}
