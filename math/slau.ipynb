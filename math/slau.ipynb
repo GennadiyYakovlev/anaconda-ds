{
 "cells": [
  {
   "cell_type": "code",
   "execution_count": 1,
   "metadata": {
    "id": "xhhJ90U07c56"
   },
   "outputs": [],
   "source": [
    "from sympy import *\n",
    "import numpy"
   ]
  },
  {
   "cell_type": "code",
   "execution_count": 2,
   "metadata": {
    "id": "-vWbCFNq7c6K",
    "outputId": "bd4b13fe-edca-433a-b505-54b3ee1f4a44"
   },
   "outputs": [
    {
     "data": {
      "text/latex": [
       "$\\displaystyle 16.875$"
      ],
      "text/plain": [
       "16.8750000000000"
      ]
     },
     "execution_count": 2,
     "metadata": {},
     "output_type": "execute_result"
    }
   ],
   "source": [
    "a1, a2 = symbols('a1, a2')\n",
    "\n",
    "MSE = 1 / 4 * ((4.1 * a1 + 3.9 * a2 - 4.0)**2 + \\\n",
    "               (4.7 * a1 + 4.2 * a2 - 4.3)**2 + \\\n",
    "               (3.1 * a1 + 2.9 * a2 - 3.0)**2 + \\\n",
    "               (4.9 * a1 + 5.0 * a2 - 4.9)**2)\n",
    "MSE.subs({a1: 0, a2: 0})"
   ]
  },
  {
   "cell_type": "code",
   "execution_count": 3,
   "metadata": {
    "id": "MyqlW7Nx7c6Z",
    "outputId": "1a94048b-2847-4439-ffc9-a6527eb6a821"
   },
   "outputs": [
    {
     "data": {
      "text/latex": [
       "$\\displaystyle 36.26 a_{1} + 34.61 a_{2} - 34.96$"
      ],
      "text/plain": [
       "36.26*a1 + 34.61*a2 - 34.96"
      ]
     },
     "execution_count": 3,
     "metadata": {},
     "output_type": "execute_result"
    }
   ],
   "source": [
    "MSEa1 = diff(MSE, a1)\n",
    "MSEa1"
   ]
  },
  {
   "cell_type": "code",
   "execution_count": 4,
   "metadata": {
    "id": "f-SQvcfW7c6k",
    "outputId": "8a53af4d-9ed8-411d-c2ad-2df4f5cb8c46"
   },
   "outputs": [
    {
     "data": {
      "text/latex": [
       "$\\displaystyle 34.61 a_{1} + 33.13 a_{2} - 33.43$"
      ],
      "text/plain": [
       "34.61*a1 + 33.13*a2 - 33.43"
      ]
     },
     "execution_count": 4,
     "metadata": {},
     "output_type": "execute_result"
    }
   ],
   "source": [
    "MSEa2 = diff(MSE, a2)\n",
    "MSEa2"
   ]
  },
  {
   "cell_type": "code",
   "execution_count": 5,
   "metadata": {
    "id": "p5nX5ir_7c6t"
   },
   "outputs": [],
   "source": [
    "step = 0.01"
   ]
  },
  {
   "cell_type": "code",
   "execution_count": 6,
   "metadata": {
    "id": "wZnRQ_Ex7c61"
   },
   "outputs": [],
   "source": [
    "point = numpy.array([0, 0])"
   ]
  },
  {
   "cell_type": "code",
   "execution_count": 7,
   "metadata": {
    "id": "_gsBmERo7c66",
    "outputId": "27190158-89ac-4e14-840f-099255240c26"
   },
   "outputs": [
    {
     "data": {
      "text/plain": [
       "array([-34.9600000000000, -33.4300000000000], dtype=object)"
      ]
     },
     "execution_count": 7,
     "metadata": {},
     "output_type": "execute_result"
    }
   ],
   "source": [
    "grad = numpy.array([MSEa1.subs({a1: point[0], a2: point[1]}),\n",
    "                    MSEa2.subs({a1: point[0], a2: point[1]})])\n",
    "grad"
   ]
  },
  {
   "cell_type": "code",
   "execution_count": 8,
   "metadata": {
    "id": "jd2cjwOj7c7A",
    "outputId": "8c2fb0f2-b7fa-46d5-fc25-3aa45149cf6b"
   },
   "outputs": [
    {
     "data": {
      "text/plain": [
       "array([0.349600000000000, 0.334300000000000], dtype=object)"
      ]
     },
     "execution_count": 8,
     "metadata": {},
     "output_type": "execute_result"
    }
   ],
   "source": [
    "next_point = point - step * grad\n",
    "next_point"
   ]
  },
  {
   "cell_type": "code",
   "execution_count": 9,
   "metadata": {
    "id": "C4UUXFI67c7F",
    "outputId": "340fa9a3-74a3-4f11-b681-6562ee637ec6"
   },
   "outputs": [
    {
     "data": {
      "text/latex": [
       "$\\displaystyle 1.58934775845$"
      ],
      "text/plain": [
       "1.58934775845000"
      ]
     },
     "execution_count": 9,
     "metadata": {},
     "output_type": "execute_result"
    }
   ],
   "source": [
    "MSE.subs({a1: next_point[0], a2: next_point[1]})"
   ]
  },
  {
   "cell_type": "markdown",
   "metadata": {
    "id": "TE3xV1nW7c7I"
   },
   "source": [
    "# Практическая работа"
   ]
  },
  {
   "cell_type": "code",
   "execution_count": 17,
   "metadata": {},
   "outputs": [],
   "source": [
    "from sympy import *\n",
    "import numpy\n",
    "x,y,z = symbols(\"x,y,z\")"
   ]
  },
  {
   "cell_type": "code",
   "execution_count": 11,
   "metadata": {},
   "outputs": [
    {
     "data": {
      "text/latex": [
       "$\\displaystyle \\left\\{\\left( -1, \\  -5\\right)\\right\\}$"
      ],
      "text/plain": [
       "{(-1, -5)}"
      ]
     },
     "execution_count": 11,
     "metadata": {},
     "output_type": "execute_result"
    }
   ],
   "source": [
    "X = Matrix([[-1,7,-34], [8,8,-48]])\n",
    "linsolve(X, [x,y])"
   ]
  },
  {
   "cell_type": "code",
   "execution_count": 14,
   "metadata": {},
   "outputs": [
    {
     "data": {
      "text/latex": [
       "$\\displaystyle \\left[\\begin{matrix}-1 & 7\\\\8 & 8\\end{matrix}\\right]$"
      ],
      "text/plain": [
       "Matrix([\n",
       "[-1, 7],\n",
       "[ 8, 8]])"
      ]
     },
     "execution_count": 14,
     "metadata": {},
     "output_type": "execute_result"
    }
   ],
   "source": [
    "A = Matrix([[-1, 7],[8,8]])\n",
    "A"
   ]
  },
  {
   "cell_type": "code",
   "execution_count": 15,
   "metadata": {},
   "outputs": [
    {
     "data": {
      "text/latex": [
       "$\\displaystyle \\left[\\begin{matrix}-1\\\\-5\\end{matrix}\\right]$"
      ],
      "text/plain": [
       "Matrix([\n",
       "[-1],\n",
       "[-5]])"
      ]
     },
     "execution_count": 15,
     "metadata": {},
     "output_type": "execute_result"
    }
   ],
   "source": [
    "b = Matrix([-1,-5])\n",
    "b"
   ]
  },
  {
   "cell_type": "code",
   "execution_count": 16,
   "metadata": {},
   "outputs": [
    {
     "data": {
      "text/latex": [
       "$\\displaystyle \\left[\\begin{matrix}-34\\\\-48\\end{matrix}\\right]$"
      ],
      "text/plain": [
       "Matrix([\n",
       "[-34],\n",
       "[-48]])"
      ]
     },
     "execution_count": 16,
     "metadata": {},
     "output_type": "execute_result"
    }
   ],
   "source": [
    "A * b"
   ]
  },
  {
   "cell_type": "code",
   "execution_count": 20,
   "metadata": {},
   "outputs": [],
   "source": [
    "eq1 = 5*x + 7*y - 5*z + 47\n",
    "eq2 = -2*y + 2*z - 10\n",
    "eq3 = -4*x - 8*y - 7*z - 63\n",
    "eq4 = x + y + 2*z + 1\n",
    "eq5 = 2*x - y + 2*z + 4\n",
    "eq6 = 4*x + y + 4*z + 2"
   ]
  },
  {
   "cell_type": "code",
   "execution_count": 21,
   "metadata": {},
   "outputs": [
    {
     "data": {
      "text/latex": [
       "$\\displaystyle 0.166666666666667 \\left(- 2 y + 2 z - 10\\right)^{2} + 0.166666666666667 \\left(- 4 x - 8 y - 7 z - 63\\right)^{2} + 0.166666666666667 \\left(x + y + 2 z + 1\\right)^{2} + 0.166666666666667 \\left(2 x - y + 2 z + 4\\right)^{2} + 0.166666666666667 \\left(4 x + y + 4 z + 2\\right)^{2} + 0.166666666666667 \\left(5 x + 7 y - 5 z + 47\\right)^{2}$"
      ],
      "text/plain": [
       "0.166666666666667*(-2*y + 2*z - 10)**2 + 0.166666666666667*(-4*x - 8*y - 7*z - 63)**2 + 0.166666666666667*(x + y + 2*z + 1)**2 + 0.166666666666667*(2*x - y + 2*z + 4)**2 + 0.166666666666667*(4*x + y + 4*z + 2)**2 + 0.166666666666667*(5*x + 7*y - 5*z + 47)**2"
      ]
     },
     "execution_count": 21,
     "metadata": {},
     "output_type": "execute_result"
    }
   ],
   "source": [
    "MSE = 1/6 * (eq1**2 + eq2**2 + eq3**2 + eq4**2 + eq5**2 + eq6**2)\n",
    "MSE"
   ]
  },
  {
   "cell_type": "code",
   "execution_count": 23,
   "metadata": {},
   "outputs": [
    {
     "data": {
      "text/latex": [
       "$\\displaystyle 20.6666666666667 x + 23.3333333333333 y + 8.33333333333333 z + 168.0$"
      ],
      "text/plain": [
       "20.6666666666667*x + 23.3333333333333*y + 8.33333333333333*z + 168.0"
      ]
     },
     "execution_count": 23,
     "metadata": {},
     "output_type": "execute_result"
    }
   ],
   "source": [
    "MSEx = diff(MSE, x)\n",
    "MSEx"
   ]
  },
  {
   "cell_type": "code",
   "execution_count": 24,
   "metadata": {},
   "outputs": [
    {
     "data": {
      "text/latex": [
       "$\\displaystyle 23.3333333333333 x + 40.0 y + 6.99999999999999 z + 284.0$"
      ],
      "text/plain": [
       "23.3333333333333*x + 40.0*y + 6.99999999999999*z + 284.0"
      ]
     },
     "execution_count": 24,
     "metadata": {},
     "output_type": "execute_result"
    }
   ],
   "source": [
    "MSEy = diff(MSE, y)\n",
    "MSEy"
   ]
  },
  {
   "cell_type": "code",
   "execution_count": 25,
   "metadata": {},
   "outputs": [
    {
     "data": {
      "text/latex": [
       "$\\displaystyle 8.33333333333333 x + 6.99999999999999 y + 34.0 z + 68.0$"
      ],
      "text/plain": [
       "8.33333333333333*x + 6.99999999999999*y + 34.0*z + 68.0"
      ]
     },
     "execution_count": 25,
     "metadata": {},
     "output_type": "execute_result"
    }
   ],
   "source": [
    "MSEz = diff(MSE, z)\n",
    "MSEz"
   ]
  },
  {
   "cell_type": "code",
   "execution_count": 28,
   "metadata": {},
   "outputs": [],
   "source": [
    "point = numpy.array([0,0,0])\n",
    "step = 0.01"
   ]
  },
  {
   "cell_type": "code",
   "execution_count": 43,
   "metadata": {},
   "outputs": [
    {
     "name": "stdout",
     "output_type": "stream",
     "text": [
      "[-9.41361525358937 7.21990210686288 -1.00539271063512]\n",
      "[-1.94928823396929 -5.73624833862081 -0.352549335645414]\n",
      "49.5397376262838\n"
     ]
    }
   ],
   "source": [
    "grad = numpy.array([MSEx.subs({x: point[0], y: point[1], z: point[2]}),\n",
    "                    MSEy.subs({x: point[0], y: point[1], z: point[2]}),\n",
    "                    MSEz.subs({x: point[0], y: point[1], z: point[2]})])\n",
    "print(grad)\n",
    "next_point = point - step * grad\n",
    "print(next_point)\n",
    "print(MSE.subs({x: next_point[0], y: next_point[1], z : next_point[2]}))\n",
    "point = next_point"
   ]
  },
  {
   "cell_type": "code",
   "execution_count": 46,
   "metadata": {},
   "outputs": [
    {
     "name": "stdout",
     "output_type": "stream",
     "text": [
      "-1.13743286196504\n"
     ]
    }
   ],
   "source": [
    "print(eq1.subs({x: next_point[0], y: next_point[1], z : next_point[2]}))"
   ]
  }
 ],
 "metadata": {
  "colab": {
   "provenance": [
    {
     "file_id": "1EzYG9GY2rgvnxzBO8dLSnPwr_rXp8SzR",
     "timestamp": 1709798187711
    }
   ]
  },
  "kernelspec": {
   "display_name": "Python 3 (ipykernel)",
   "language": "python",
   "name": "python3"
  },
  "language_info": {
   "codemirror_mode": {
    "name": "ipython",
    "version": 3
   },
   "file_extension": ".py",
   "mimetype": "text/x-python",
   "name": "python",
   "nbconvert_exporter": "python",
   "pygments_lexer": "ipython3",
   "version": "3.11.5"
  }
 },
 "nbformat": 4,
 "nbformat_minor": 1
}
