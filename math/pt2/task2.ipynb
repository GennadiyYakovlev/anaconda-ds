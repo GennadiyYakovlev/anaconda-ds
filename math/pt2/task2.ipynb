{
  "cells": [
    {
      "cell_type": "markdown",
      "source": [
        "## **Случайные события. Практическая работа**\n",
        "\n",
        "### Итоги модуля\n",
        "В этом модуле было введено понятие **пространства элементарных событий**. Это пространство состоит из различных **исходов** случайной величины. Вероятности элементарных событий в этом пространстве будут принимать значения от 0 до 1. \n",
        "\n",
        "В пространстве событий помимо **элементарных** исходов есть также **сложные** события, являющиеся объединением нескольких элементарных. \n",
        "\n",
        "Вы также познакомились с **зависимыми** событиями и понятием **условной вероятности**. На основе этого определения строится **формула Байеса**. Она связывает теоретические вероятности осуществления события (**априорная** вероятность) с вероятностями, основанными на некотором опыте (условная или **апостериорная** вероятность). Эта формула позволяет как бы «поменять местами» причину и следствие — получить взаимосвязь между P(A|B) и P(B|A).\n",
        "\n",
        "Эта практическая работа поможет закрепить полученные знания. В одной части заданий нужно вычислить вероятности сложных событий. Другая часть заданий посвящена применению теоремы Байеса, а также включает в себя краткое знакомство с **наивным байесовским классификатором (НБК)** — одной из моделей машинного обучения.\n",
        "\n",
        "Основную информацию, необходимую для решения данной практической работы, можно найти в теоретическом разделе этого модуля. Критерии оценки заданий основаны на полноте и правильности решений, а также правильности/неправильности финальных ответов. \n",
        "\n",
        "### Цели практической работы\n",
        "- закрепить полученные знания о вычислении вероятностей сложных событий;\n",
        "- ближе познакомиться с условными вероятностями, теоремой Байеса и байесовским классификатором.\n",
        "\n",
        "### Что оценивается\n",
        "Умение вычислять вероятности сложных событий и вероятности с использованием теоремы Байеса, понимание условных вероятностей. В каждой задаче требуется соотнести набор известных значений вероятностей с условными вероятностями и вычислить новые вероятности. Задача считается решённой, если выполнены все её условия, а также даны правильные ответы на вопросы.\n",
        "\n",
        "### Как отправить задание на проверку\n",
        "Выполните задания, сохраните изменения при помощи опции Save and Checkpoint на вкладке меню File или кнопки Save and Checkpoint на панели инструментов. Отправьте итоговый файл Jupyter Notebook (в формате .ipynb) или ссылку на него через форму.\n"
      ],
      "metadata": {
        "id": "1ede1DhglCo2"
      }
    },
    {
      "cell_type": "markdown",
      "source": [
        "### **Задание 1**\n",
        "\n",
        "Даны таблицы с суммами и произведениями значений при броске двух кубиков. Используя эти таблицы, вычислите вероятности следующих сложных событий.\n",
        "\n",
        "<p align=\"left\">\n",
        "  <img src=\"https://drive.google.com/uc?id=1If1NDfwPCfLC6JHqxa5IDgXLRzrbB-sI\" alt=\"drawing\" width=\"600\"/>\n",
        "</p>\n",
        "\n",
        "<p align=\"left\">\n",
        "  <img src=\"https://drive.google.com/uc?id=1vWNTqND6br6XzESVSwqKjK9AqeN0-k-4\" alt=\"drawing\" width=\"600\"/>\n",
        "</p>\n",
        "\n",
        "1. Вероятность, что полученная сумма значений на кубиках — нечётное число.\n"
      ],
      "metadata": {
        "id": "vWRlpD8wmGom"
      }
    },
    {
      "cell_type": "code",
      "source": [],
      "metadata": {
        "id": "op3eZLlXm7N6"
      },
      "execution_count": null,
      "outputs": []
    },
    {
      "cell_type": "markdown",
      "source": [
        "2. Вероятность, что полученная сумма значений на кубиках — число, кратное трём.\n",
        "\n"
      ],
      "metadata": {
        "id": "6cgcddHem7qV"
      }
    },
    {
      "cell_type": "code",
      "source": [],
      "metadata": {
        "id": "YyJ5fkQvm-ev"
      },
      "execution_count": null,
      "outputs": []
    },
    {
      "cell_type": "markdown",
      "source": [
        "3. Вероятность, что сумма будет меньше пяти или больше десяти.\n"
      ],
      "metadata": {
        "id": "87xRZ-Ydm_bd"
      }
    },
    {
      "cell_type": "code",
      "source": [],
      "metadata": {
        "id": "4XqHSi9BnCVs"
      },
      "execution_count": null,
      "outputs": []
    },
    {
      "cell_type": "markdown",
      "source": [
        "4. Вероятность, что произведение значений будет равно двенадцати.\n"
      ],
      "metadata": {
        "id": "Dk0iqlGCnCoK"
      }
    },
    {
      "cell_type": "code",
      "source": [],
      "metadata": {
        "id": "4DsrJuKWnE_W"
      },
      "execution_count": null,
      "outputs": []
    },
    {
      "cell_type": "markdown",
      "source": [
        "5. Вероятность, что произведение значений — нечётно.\n"
      ],
      "metadata": {
        "id": "61Qt7YUlnFXc"
      }
    },
    {
      "cell_type": "code",
      "source": [],
      "metadata": {
        "id": "NH4jaPzCnIIt"
      },
      "execution_count": null,
      "outputs": []
    },
    {
      "cell_type": "markdown",
      "source": [
        "6. Вероятность, что сумма значений окажется больше или равной их произведению."
      ],
      "metadata": {
        "id": "x1FyFtv9nJES"
      }
    },
    {
      "cell_type": "code",
      "source": [],
      "metadata": {
        "id": "qrPXWQYEnah2"
      },
      "execution_count": null,
      "outputs": []
    },
    {
      "cell_type": "markdown",
      "source": [
        "### **Задание 2**\n",
        "Загрузите данные о пассажирах «Титаника» из файла titanic.csv в приложенных к практической работе файлах. Ограничьтесь набором таких переменных, как класс билета пассажира, пол и переменной, показывающей, выжил он или нет. В этом датасете все эти переменные заполнены непустым значением.\n"
      ],
      "metadata": {
        "id": "HGqYRvcQnier"
      }
    },
    {
      "cell_type": "code",
      "execution_count": null,
      "metadata": {
        "id": "ua6B5AdRa2Oj"
      },
      "outputs": [],
      "source": [
        "import pandas as pd\n",
        "titanic = pd.read_csv(\"train.csv\")\n",
        "X = titanic[['PassengerId','Survived','Pclass','Sex']]"
      ]
    },
    {
      "cell_type": "markdown",
      "source": [
        "1. Запишите в P_fem вероятность, что случайный пассажир «Титаника» — женщина.\n"
      ],
      "metadata": {
        "id": "VREyy_REoXJ2"
      }
    },
    {
      "cell_type": "code",
      "source": [
        "P_fem = "
      ],
      "metadata": {
        "id": "SOJB4aMvpdra"
      },
      "execution_count": null,
      "outputs": []
    },
    {
      "cell_type": "markdown",
      "source": [
        "2. Запишите в P_1class вероятность, что случайный пассажир «Титаника» ехал в первом классе.\n"
      ],
      "metadata": {
        "id": "NrQTNxYbpKod"
      }
    },
    {
      "cell_type": "code",
      "source": [
        "P_1class = "
      ],
      "metadata": {
        "id": "G3MuKPrvpgwN"
      },
      "execution_count": null,
      "outputs": []
    },
    {
      "cell_type": "markdown",
      "source": [
        "3. Запишите в P_surv вероятность, что случайный пассажир «Титаника» выжил.\n"
      ],
      "metadata": {
        "id": "K621BwxepMms"
      }
    },
    {
      "cell_type": "code",
      "source": [
        "P_surv = "
      ],
      "metadata": {
        "id": "Y_hErf_ypjNQ"
      },
      "execution_count": null,
      "outputs": []
    },
    {
      "cell_type": "markdown",
      "source": [
        "4. Запишите в P_fem_surv вероятность, что пассажир — женщина, и одновременно с этим пассажир выжила в катастрофе.\n"
      ],
      "metadata": {
        "id": "DpnGD270pP34"
      }
    },
    {
      "cell_type": "code",
      "source": [
        "P_fem_surv = "
      ],
      "metadata": {
        "id": "L5eF1s-EplNF"
      },
      "execution_count": null,
      "outputs": []
    },
    {
      "cell_type": "markdown",
      "source": [
        "5. Найдите условную вероятность того, что пассажир выживет, при условии, если пассажир — женщина.\n"
      ],
      "metadata": {
        "id": "fZeLtDlQpRW9"
      }
    },
    {
      "cell_type": "code",
      "source": [
        "P_cond_surv_fem = "
      ],
      "metadata": {
        "id": "Im6UwOEzpr_w"
      },
      "execution_count": null,
      "outputs": []
    },
    {
      "cell_type": "markdown",
      "source": [
        "6. По аналогии найдите вероятность того, что пассажир выживет, если пассажир ехал в первом классе.\n"
      ],
      "metadata": {
        "id": "qOs5rtX1pT94"
      }
    },
    {
      "cell_type": "code",
      "source": [
        "P_cond_surv_1class = "
      ],
      "metadata": {
        "id": "c5wuOMJAp--_"
      },
      "execution_count": null,
      "outputs": []
    },
    {
      "cell_type": "markdown",
      "source": [
        "7. Найдите вероятность того, что пассажир выживет при условии, что пассажир ехал в первом классе и является женщиной.\n"
      ],
      "metadata": {
        "id": "t0acZwYNpVjs"
      }
    },
    {
      "cell_type": "code",
      "source": [
        "P_cond_surv_1class_fem = "
      ],
      "metadata": {
        "id": "bwy-iTMnqONj"
      },
      "execution_count": null,
      "outputs": []
    },
    {
      "cell_type": "markdown",
      "source": [
        "8. Найдите вероятность того, что пассажир выживет при условии, что пассажир ехал во втором классе и является мужчиной.\n"
      ],
      "metadata": {
        "id": "YUzlJ1SVpXYN"
      }
    },
    {
      "cell_type": "code",
      "source": [
        "P_cond_surv_2class_male = "
      ],
      "metadata": {
        "id": "DWTRkJlHqW1W"
      },
      "execution_count": null,
      "outputs": []
    },
    {
      "cell_type": "markdown",
      "source": [
        "9. Используя посчитанные вероятности, найдите вероятность того, что случайно выбранный пассажир — женщина, если мы знаем, что пассажир выжил.\n"
      ],
      "metadata": {
        "id": "8Nbz8Xb0pYuj"
      }
    },
    {
      "cell_type": "code",
      "source": [
        "P_cond_fem_surv = "
      ],
      "metadata": {
        "id": "I8JLH18Uql9V"
      },
      "execution_count": null,
      "outputs": []
    },
    {
      "cell_type": "markdown",
      "source": [
        "10. Используя посчитанные вероятности, найдите вероятность того, что случайно выбранный пассажир ехал в первом классе, если мы знаем, что пассажир выжил.\n"
      ],
      "metadata": {
        "id": "b5UDgMYKpaMU"
      }
    },
    {
      "cell_type": "code",
      "source": [
        "P_cond_1class_1class = "
      ],
      "metadata": {
        "id": "PcjRugZzqss1"
      },
      "execution_count": null,
      "outputs": []
    },
    {
      "cell_type": "markdown",
      "source": [
        "11. Сравните полученные вероятности с безусловными вероятностями соответствующих событий. Объясните разницу в значениях."
      ],
      "metadata": {
        "id": "yQHFXtulpbwm"
      }
    },
    {
      "cell_type": "code",
      "source": [],
      "metadata": {
        "id": "rNgeDAeeq3SM"
      },
      "execution_count": null,
      "outputs": []
    },
    {
      "cell_type": "markdown",
      "source": [
        "."
      ],
      "metadata": {
        "id": "o7W2eNBuqzAF"
      }
    },
    {
      "cell_type": "markdown",
      "source": [
        "### **Задание 3**\n",
        "Рассмотрим датасет со статистикой почтового ящика `letters.xlsx`. Данные можно найти в материалах к практической работе. Там содержится 248 записей с информацией о письмах. \n",
        "\n",
        "Нам хочется узнать, является ли новое письмо, пришедшее к нам на почту, спамом. Для этого у нас существует статистика писем. Каждое пришедшее письмо может быть либо спамом, либо нет. При этом и спам, и нормальные письма могут содержать слова, характерные для спам-писем. Данный датасет представляет собой набор записей с информацией о пришедших ранее письмах, распознанных человеком как спам или нет. \n",
        "\n",
        "\n"
      ],
      "metadata": {
        "id": "uPoHizfkrDDx"
      }
    },
    {
      "cell_type": "code",
      "execution_count": null,
      "metadata": {
        "id": "97q3xYj7a2On",
        "colab": {
          "base_uri": "https://localhost:8080/",
          "height": 455
        },
        "outputId": "fd7d7b10-c391-4ebe-dda4-0199fa8767f3"
      },
      "outputs": [
        {
          "output_type": "execute_result",
          "data": {
            "text/html": [
              "\n",
              "  <div id=\"df-4b062195-2fa0-45d6-839f-d8308e6d598d\">\n",
              "    <div class=\"colab-df-container\">\n",
              "      <div>\n",
              "<style scoped>\n",
              "    .dataframe tbody tr th:only-of-type {\n",
              "        vertical-align: middle;\n",
              "    }\n",
              "\n",
              "    .dataframe tbody tr th {\n",
              "        vertical-align: top;\n",
              "    }\n",
              "\n",
              "    .dataframe thead th {\n",
              "        text-align: right;\n",
              "    }\n",
              "</style>\n",
              "<table border=\"1\" class=\"dataframe\">\n",
              "  <thead>\n",
              "    <tr style=\"text-align: right;\">\n",
              "      <th></th>\n",
              "      <th>spam</th>\n",
              "      <th>spam_words</th>\n",
              "    </tr>\n",
              "    <tr>\n",
              "      <th>id_letter</th>\n",
              "      <th></th>\n",
              "      <th></th>\n",
              "    </tr>\n",
              "  </thead>\n",
              "  <tbody>\n",
              "    <tr>\n",
              "      <th>1</th>\n",
              "      <td>да</td>\n",
              "      <td>нет</td>\n",
              "    </tr>\n",
              "    <tr>\n",
              "      <th>2</th>\n",
              "      <td>да</td>\n",
              "      <td>да</td>\n",
              "    </tr>\n",
              "    <tr>\n",
              "      <th>3</th>\n",
              "      <td>нет</td>\n",
              "      <td>нет</td>\n",
              "    </tr>\n",
              "    <tr>\n",
              "      <th>4</th>\n",
              "      <td>нет</td>\n",
              "      <td>да</td>\n",
              "    </tr>\n",
              "    <tr>\n",
              "      <th>5</th>\n",
              "      <td>да</td>\n",
              "      <td>да</td>\n",
              "    </tr>\n",
              "    <tr>\n",
              "      <th>...</th>\n",
              "      <td>...</td>\n",
              "      <td>...</td>\n",
              "    </tr>\n",
              "    <tr>\n",
              "      <th>244</th>\n",
              "      <td>нет</td>\n",
              "      <td>нет</td>\n",
              "    </tr>\n",
              "    <tr>\n",
              "      <th>245</th>\n",
              "      <td>нет</td>\n",
              "      <td>нет</td>\n",
              "    </tr>\n",
              "    <tr>\n",
              "      <th>246</th>\n",
              "      <td>нет</td>\n",
              "      <td>нет</td>\n",
              "    </tr>\n",
              "    <tr>\n",
              "      <th>247</th>\n",
              "      <td>нет</td>\n",
              "      <td>нет</td>\n",
              "    </tr>\n",
              "    <tr>\n",
              "      <th>248</th>\n",
              "      <td>нет</td>\n",
              "      <td>нет</td>\n",
              "    </tr>\n",
              "  </tbody>\n",
              "</table>\n",
              "<p>248 rows × 2 columns</p>\n",
              "</div>\n",
              "      <button class=\"colab-df-convert\" onclick=\"convertToInteractive('df-4b062195-2fa0-45d6-839f-d8308e6d598d')\"\n",
              "              title=\"Convert this dataframe to an interactive table.\"\n",
              "              style=\"display:none;\">\n",
              "        \n",
              "  <svg xmlns=\"http://www.w3.org/2000/svg\" height=\"24px\"viewBox=\"0 0 24 24\"\n",
              "       width=\"24px\">\n",
              "    <path d=\"M0 0h24v24H0V0z\" fill=\"none\"/>\n",
              "    <path d=\"M18.56 5.44l.94 2.06.94-2.06 2.06-.94-2.06-.94-.94-2.06-.94 2.06-2.06.94zm-11 1L8.5 8.5l.94-2.06 2.06-.94-2.06-.94L8.5 2.5l-.94 2.06-2.06.94zm10 10l.94 2.06.94-2.06 2.06-.94-2.06-.94-.94-2.06-.94 2.06-2.06.94z\"/><path d=\"M17.41 7.96l-1.37-1.37c-.4-.4-.92-.59-1.43-.59-.52 0-1.04.2-1.43.59L10.3 9.45l-7.72 7.72c-.78.78-.78 2.05 0 2.83L4 21.41c.39.39.9.59 1.41.59.51 0 1.02-.2 1.41-.59l7.78-7.78 2.81-2.81c.8-.78.8-2.07 0-2.86zM5.41 20L4 18.59l7.72-7.72 1.47 1.35L5.41 20z\"/>\n",
              "  </svg>\n",
              "      </button>\n",
              "      \n",
              "  <style>\n",
              "    .colab-df-container {\n",
              "      display:flex;\n",
              "      flex-wrap:wrap;\n",
              "      gap: 12px;\n",
              "    }\n",
              "\n",
              "    .colab-df-convert {\n",
              "      background-color: #E8F0FE;\n",
              "      border: none;\n",
              "      border-radius: 50%;\n",
              "      cursor: pointer;\n",
              "      display: none;\n",
              "      fill: #1967D2;\n",
              "      height: 32px;\n",
              "      padding: 0 0 0 0;\n",
              "      width: 32px;\n",
              "    }\n",
              "\n",
              "    .colab-df-convert:hover {\n",
              "      background-color: #E2EBFA;\n",
              "      box-shadow: 0px 1px 2px rgba(60, 64, 67, 0.3), 0px 1px 3px 1px rgba(60, 64, 67, 0.15);\n",
              "      fill: #174EA6;\n",
              "    }\n",
              "\n",
              "    [theme=dark] .colab-df-convert {\n",
              "      background-color: #3B4455;\n",
              "      fill: #D2E3FC;\n",
              "    }\n",
              "\n",
              "    [theme=dark] .colab-df-convert:hover {\n",
              "      background-color: #434B5C;\n",
              "      box-shadow: 0px 1px 3px 1px rgba(0, 0, 0, 0.15);\n",
              "      filter: drop-shadow(0px 1px 2px rgba(0, 0, 0, 0.3));\n",
              "      fill: #FFFFFF;\n",
              "    }\n",
              "  </style>\n",
              "\n",
              "      <script>\n",
              "        const buttonEl =\n",
              "          document.querySelector('#df-4b062195-2fa0-45d6-839f-d8308e6d598d button.colab-df-convert');\n",
              "        buttonEl.style.display =\n",
              "          google.colab.kernel.accessAllowed ? 'block' : 'none';\n",
              "\n",
              "        async function convertToInteractive(key) {\n",
              "          const element = document.querySelector('#df-4b062195-2fa0-45d6-839f-d8308e6d598d');\n",
              "          const dataTable =\n",
              "            await google.colab.kernel.invokeFunction('convertToInteractive',\n",
              "                                                     [key], {});\n",
              "          if (!dataTable) return;\n",
              "\n",
              "          const docLinkHtml = 'Like what you see? Visit the ' +\n",
              "            '<a target=\"_blank\" href=https://colab.research.google.com/notebooks/data_table.ipynb>data table notebook</a>'\n",
              "            + ' to learn more about interactive tables.';\n",
              "          element.innerHTML = '';\n",
              "          dataTable['output_type'] = 'display_data';\n",
              "          await google.colab.output.renderOutput(dataTable, element);\n",
              "          const docLink = document.createElement('div');\n",
              "          docLink.innerHTML = docLinkHtml;\n",
              "          element.appendChild(docLink);\n",
              "        }\n",
              "      </script>\n",
              "    </div>\n",
              "  </div>\n",
              "  "
            ],
            "text/plain": [
              "          spam spam_words\n",
              "id_letter                \n",
              "1           да        нет\n",
              "2           да         да\n",
              "3          нет        нет\n",
              "4          нет         да\n",
              "5           да         да\n",
              "...        ...        ...\n",
              "244        нет        нет\n",
              "245        нет        нет\n",
              "246        нет        нет\n",
              "247        нет        нет\n",
              "248        нет        нет\n",
              "\n",
              "[248 rows x 2 columns]"
            ]
          },
          "metadata": {},
          "execution_count": 7
        }
      ],
      "source": [
        "df = pd.read_excel('letters.xlsx', sheet_name='Sheet1', index_col='id_letter')\n",
        "df"
      ]
    },
    {
      "cell_type": "markdown",
      "source": [
        "Столбец `spam` отвечает на вопрос, является письмо спамом или нет, `spam_words` — содержит ли оно слова, встречающиеся в спам-письмах.\n",
        "\n",
        "1. Найдите долю спам-писем по отношению ко всем.\n",
        "\n"
      ],
      "metadata": {
        "id": "VXZ48zp6s34j"
      }
    },
    {
      "cell_type": "code",
      "source": [],
      "metadata": {
        "id": "2-Xbar2xs_An"
      },
      "execution_count": null,
      "outputs": []
    },
    {
      "cell_type": "markdown",
      "source": [
        "2. Найдите долю писем со спам-подобными словами по отношению ко всем.\n"
      ],
      "metadata": {
        "id": "K0FHedEys_au"
      }
    },
    {
      "cell_type": "code",
      "source": [],
      "metadata": {
        "id": "USOq8sNutCxC"
      },
      "execution_count": null,
      "outputs": []
    },
    {
      "cell_type": "markdown",
      "source": [
        "3. Найдите вероятность, что письмо содержит спам-подобные слова при условии, что оно является спамом.\n"
      ],
      "metadata": {
        "id": "x8OiJqvCtDCD"
      }
    },
    {
      "cell_type": "code",
      "source": [],
      "metadata": {
        "id": "4IwG20wNtGQ1"
      },
      "execution_count": null,
      "outputs": []
    },
    {
      "cell_type": "markdown",
      "source": [
        "4. Найдите вероятность, что письмо является спамом при условии, что оно содержит спам-подобные слова.\n"
      ],
      "metadata": {
        "id": "ruU9vLPVtGoK"
      }
    },
    {
      "cell_type": "code",
      "source": [],
      "metadata": {
        "id": "q93GX-X6tJOT"
      },
      "execution_count": null,
      "outputs": []
    },
    {
      "cell_type": "markdown",
      "source": [
        "С помощью такого принципа [работает наивный байесовский классификатор](https://ru.wikipedia.org/wiki/%D0%91%D0%B0%D0%B9%D0%B5%D1%81%D0%BE%D0%B2%D1%81%D0%BA%D0%B0%D1%8F_%D1%84%D0%B8%D0%BB%D1%8C%D1%82%D1%80%D0%B0%D1%86%D0%B8%D1%8F_%D1%81%D0%BF%D0%B0%D0%BC%D0%B0). При обучении модели для каждого встреченного в письмах слова высчитывается и сохраняется вероятность того, что письмо с этим словом — спам. И в дальнейшем, на основе наличия в письме слов с высокой вероятностью встречающихся в спам-письмах, машина может рассчитать условную вероятность того, что в таком случае письмо является спамом. Если эта вероятность превысит 0,5, можно положить такое письмо в спам. Более сложные модели учитывают не только наличие определённых слов, но и множество других факторов. Тем самым, по целому ряду свойств письма можно рассчитать соответствующую условную вероятность, что письмо будет спамом при условии, что оно обладает некоторым набором характеристик. Такой классификатор работает достаточно хорошо и быстро в простых ситуациях, однако он слишком завязан на варианты значений условий. Например, если в тренировочном датасете не встречалась определённая комбинация условных факторов, то классификатор не сможет оценить вероятность в ситуации, если такая комбинация встретится в тестовой выборке."
      ],
      "metadata": {
        "id": "LSWmnnWptJjb"
      }
    }
  ],
  "metadata": {
    "kernelspec": {
      "display_name": "Python 3",
      "language": "python",
      "name": "python3"
    },
    "language_info": {
      "codemirror_mode": {
        "name": "ipython",
        "version": 3
      },
      "file_extension": ".py",
      "mimetype": "text/x-python",
      "name": "python",
      "nbconvert_exporter": "python",
      "pygments_lexer": "ipython3",
      "version": "3.8.5"
    },
    "colab": {
      "provenance": []
    }
  },
  "nbformat": 4,
  "nbformat_minor": 0
}