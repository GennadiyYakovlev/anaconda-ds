{
 "cells": [
  {
   "cell_type": "markdown",
   "id": "20d02d60",
   "metadata": {
    "id": "20d02d60"
   },
   "source": [
    "# Модуль 3. Практическая работа "
   ]
  },
  {
   "cell_type": "markdown",
   "id": "3092d4ea",
   "metadata": {
    "id": "3092d4ea"
   },
   "source": [
    "## Задача 1 \n",
    "\n",
    "Имеется партия из десяти деталей. Вероятность, что деталь оказалась бракованной, для данной партии составляет $4/5 = 0.8.$ Определите, с какой вероятностью половина деталей окажется бракованной.\n",
    "\n",
    "Напишите функцию для расчёта этой вероятности. Используете биномиальное распределение.\n",
    "\n",
    " \n",
    "\n",
    "\n"
   ]
  },
  {
   "cell_type": "code",
   "execution_count": 25,
   "id": "859c4d2b",
   "metadata": {
    "ExecuteTime": {
     "end_time": "2022-02-23T19:39:15.915860Z",
     "start_time": "2022-02-23T19:39:15.902436Z"
    },
    "id": "859c4d2b"
   },
   "outputs": [
    {
     "name": "stdout",
     "output_type": "stream",
     "text": [
      "При вероятности брака в 0.8 вероятность получить 5 из 10 бракованных деталей = 0.026\n"
     ]
    }
   ],
   "source": [
    "import math\n",
    "\n",
    "def prob(p, n, k):\n",
    "    q = 1 - p\n",
    "    c_k_n = math.factorial(n) / math.factorial(k) / math.factorial(n-k) # число сочетаний из n по k\n",
    "    return c_k_n * p**k * q**(n-k)\n",
    "\n",
    "p_5_10 = prob(0.8, 10, 5)\n",
    "print(\"При вероятности брака в 0.8 вероятность получить 5 из 10 бракованных деталей =\", round(p_5_10, 3))"
   ]
  },
  {
   "cell_type": "markdown",
   "id": "f8266e27",
   "metadata": {
    "ExecuteTime": {
     "end_time": "2022-01-28T23:12:51.463454Z",
     "start_time": "2022-01-28T23:12:51.458075Z"
    },
    "id": "f8266e27"
   },
   "source": [
    "### Задача 2.  \n",
    "\n",
    "Вратарь последовательно отражает семь ударов в ворота от игрока. Вероятность этого составляет $0.3$ каждый раз независимо от характеристик удара. Найдите вероятность, с которой вратарь отразит хотя бы три удара. Используете биномиальное распределение.\n",
    "\n",
    "\n",
    "\n"
   ]
  },
  {
   "cell_type": "code",
   "execution_count": 36,
   "id": "a1349322",
   "metadata": {
    "id": "a1349322"
   },
   "outputs": [
    {
     "name": "stdout",
     "output_type": "stream",
     "text": [
      "Вероятности отразить соответствующее число ударов [0-7]:\n",
      " [0.08235429999999996, 0.24706289999999992, 0.3176522999999999, 0.22689449999999992, 0.09724049999999997, 0.02500469999999999, 0.003572099999999999, 0.00021869999999999995]\n",
      "\n",
      "При вероятности в 0.3 вероятность отразить хотя бы 3 удара из 7 = 0.353\n"
     ]
    }
   ],
   "source": [
    "pi = [prob(0.3, 7, i) for i in range(0,8)]\n",
    "print(\"Вероятности отразить соответствующее число ударов [0-7]:\\n\", pi)\n",
    "\n",
    "p_gr_2 = pi[3] + pi[4] + pi[5] + pi[6] + pi[7]\n",
    "print(\"\\nПри вероятности в 0.3 вероятность отразить хотя бы 3 удара из 7 =\", round(p_gr_2, 3))"
   ]
  },
  {
   "cell_type": "markdown",
   "id": "29bad2c6",
   "metadata": {
    "id": "29bad2c6"
   },
   "source": [
    "### Задача 3.  \n",
    "\n",
    "Представьте, что вы сделали бросок пары игральных кубиков десять раз подряд. При каждом броске получаете два значения на двух кубиках. Рассмотрите вероятность, при которой один раз выпадет пара из двух шестёрок. Найдите её:\n",
    "с помощью биномиального распределения;\n",
    "с помощью распределения Пуассона, используя закон редких событий. \n"
   ]
  },
  {
   "cell_type": "code",
   "execution_count": 55,
   "id": "ba31752e",
   "metadata": {
    "ExecuteTime": {
     "end_time": "2022-02-23T19:39:17.014992Z",
     "start_time": "2022-02-23T19:39:17.011993Z"
    },
    "id": "ba31752e"
   },
   "outputs": [
    {
     "name": "stdout",
     "output_type": "stream",
     "text": [
      "Вероятность 1 раз выкинуть '6:6' за 10 бросков =\n",
      "0.2156 (через биномиальное распределение)/\n",
      "0.2104 (через распределение Пуассона)\n"
     ]
    }
   ],
   "source": [
    "def puas(p, n, k):\n",
    "    a = n * p\n",
    "    return a**k / math.factorial(k) * math.e**(-a)\n",
    "\n",
    "#через биномиальное распределение\n",
    "p_1_10_bin = prob(1/36, 10, 1)\n",
    "\n",
    "#через распределение Пуассона\n",
    "p_1_10_pua = puas(1/36, 10, 1)\n",
    "\n",
    "print(\"Вероятность 1 раз выкинуть '6:6' за 10 бросков =\")\n",
    "print(round(p_1_10_bin, 4), \"(через биномиальное распределение)/\")\n",
    "print(round(p_1_10_pua, 4), \"(через распределение Пуассона)\")"
   ]
  }
 ],
 "metadata": {
  "colab": {
   "collapsed_sections": [],
   "name": "Модуль 3 Практика 2.ipynb",
   "provenance": []
  },
  "kernelspec": {
   "display_name": "Python 3 (ipykernel)",
   "language": "python",
   "name": "python3"
  },
  "language_info": {
   "codemirror_mode": {
    "name": "ipython",
    "version": 3
   },
   "file_extension": ".py",
   "mimetype": "text/x-python",
   "name": "python",
   "nbconvert_exporter": "python",
   "pygments_lexer": "ipython3",
   "version": "3.11.5"
  },
  "toc": {
   "base_numbering": 1,
   "nav_menu": {},
   "number_sections": true,
   "sideBar": true,
   "skip_h1_title": false,
   "title_cell": "Table of Contents",
   "title_sidebar": "Contents",
   "toc_cell": false,
   "toc_position": {},
   "toc_section_display": true,
   "toc_window_display": false
  }
 },
 "nbformat": 4,
 "nbformat_minor": 5
}
