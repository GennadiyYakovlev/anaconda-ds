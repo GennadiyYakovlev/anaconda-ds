{
 "cells": [
  {
   "cell_type": "code",
   "execution_count": 15,
   "id": "619c6d89",
   "metadata": {},
   "outputs": [
    {
     "name": "stdout",
     "output_type": "stream",
     "text": [
      "3.0 3.0\n",
      "4.0 7.0\n",
      "-3.0 4.0\n",
      "8.0 12.0\n",
      "10.0 22.0\n"
     ]
    },
    {
     "data": {
      "text/plain": [
       "22.0"
      ]
     },
     "execution_count": 15,
     "metadata": {},
     "output_type": "execute_result"
    }
   ],
   "source": [
    "X = [10,20,-30,40,50]\n",
    "Y = [0.3,0.2,0.1,0.2,0.2]\n",
    "x0 = sum(X)/len(X)\n",
    "Xd = [(xi - x0) for xi in X]\n",
    "Mx = 0\n",
    "for xi,yi in zip(X,Y):\n",
    "    Mx += (xi) * yi\n",
    "    print((xi) * yi, Mx)\n",
    "Mx"
   ]
  },
  {
   "cell_type": "code",
   "execution_count": 10,
   "id": "c16f3ab9",
   "metadata": {},
   "outputs": [
    {
     "data": {
      "text/plain": [
       "27"
      ]
     },
     "execution_count": 10,
     "metadata": {},
     "output_type": "execute_result"
    }
   ],
   "source": [
    "X = [2,3,4,5]\n",
    "Y = [6,8,9,4]\n",
    "sumY = sum(Y)\n",
    "sumY"
   ]
  },
  {
   "cell_type": "code",
   "execution_count": 11,
   "id": "55c15b5a",
   "metadata": {},
   "outputs": [
    {
     "data": {
      "text/plain": [
       "[0.2222222222222222,\n",
       " 0.2962962962962963,\n",
       " 0.3333333333333333,\n",
       " 0.14814814814814814]"
      ]
     },
     "execution_count": 11,
     "metadata": {},
     "output_type": "execute_result"
    }
   ],
   "source": [
    "pY = [yi/sumY for yi in Y]\n",
    "pY"
   ]
  },
  {
   "cell_type": "code",
   "execution_count": 13,
   "id": "b2697ac3",
   "metadata": {},
   "outputs": [
    {
     "name": "stdout",
     "output_type": "stream",
     "text": [
      "0.4444444444444444 0.4444444444444444\n",
      "0.8888888888888888 1.3333333333333333\n",
      "1.3333333333333333 2.6666666666666665\n",
      "0.7407407407407407 3.4074074074074074\n"
     ]
    },
    {
     "data": {
      "text/plain": [
       "3.4074074074074074"
      ]
     },
     "execution_count": 13,
     "metadata": {},
     "output_type": "execute_result"
    }
   ],
   "source": [
    "Mx = 0\n",
    "for xi,yi in zip(X,pY):\n",
    "    Mx += (xi) * yi\n",
    "    print((xi) * yi, Mx)\n",
    "Mx"
   ]
  },
  {
   "cell_type": "code",
   "execution_count": 14,
   "id": "d5d11e9d",
   "metadata": {},
   "outputs": [
    {
     "name": "stdout",
     "output_type": "stream",
     "text": [
      "0.3333333333333333 0.3333333333333333 0.3333333333333333\n",
      "0.6666666666666666 1.0 0.3333333333333333\n",
      "1.0 2.0 0.6666666666666666\n",
      "2.0 0.6666666666666666\n"
     ]
    }
   ],
   "source": [
    "X = [1,2,3]\n",
    "Y = [1/3,1/3,1/3]\n",
    "x0 = 2\n",
    "Mx = 0\n",
    "Dx = 0\n",
    "for xi,yi in zip(X,Y):\n",
    "    Mx += (xi) * yi\n",
    "    Dx += (xi - x0)**2 * yi\n",
    "    print((xi) * yi, Mx, Dx)\n",
    "print(Mx, Dx)"
   ]
  }
 ],
 "metadata": {
  "kernelspec": {
   "display_name": "Python 3 (ipykernel)",
   "language": "python",
   "name": "python3"
  },
  "language_info": {
   "codemirror_mode": {
    "name": "ipython",
    "version": 3
   },
   "file_extension": ".py",
   "mimetype": "text/x-python",
   "name": "python",
   "nbconvert_exporter": "python",
   "pygments_lexer": "ipython3",
   "version": "3.11.5"
  }
 },
 "nbformat": 4,
 "nbformat_minor": 5
}
