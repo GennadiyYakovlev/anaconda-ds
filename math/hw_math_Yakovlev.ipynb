{
 "cells": [
  {
   "cell_type": "markdown",
   "id": "6ee3fa0f",
   "metadata": {},
   "source": [
    "# 11.7 Практическая работа (Основы математики для Data Science)"
   ]
  },
  {
   "cell_type": "markdown",
   "id": "7c7393f0",
   "metadata": {},
   "source": [
    "## Задание 1. Метод обратных матриц \n",
    "\n",
    "Решите методом обратных матриц матричные уравнения. Проверьте себя с помощью SymPy."
   ]
  },
  {
   "cell_type": "code",
   "execution_count": 53,
   "id": "da1d4b1e",
   "metadata": {},
   "outputs": [],
   "source": [
    "from sympy import *"
   ]
  },
  {
   "cell_type": "code",
   "execution_count": 52,
   "id": "251c502f",
   "metadata": {},
   "outputs": [
    {
     "name": "stdout",
     "output_type": "stream",
     "text": [
      "Double check: Matrix([[2], [4]]) = Matrix([[2], [4]])\n",
      "ответ к задаче a1), [x1, x2] = [-5, 4]\n"
     ]
    }
   ],
   "source": [
    "A = Matrix([[2,3],[0,1]])\n",
    "b = Matrix([2,4])\n",
    "X = A**(-1) * b   # находим решение методом обратных матриц \n",
    "print('Double check:', A * X, '=', b)\n",
    "print('ответ к задаче a1), [x1, x2] =', X.values())"
   ]
  },
  {
   "cell_type": "code",
   "execution_count": 49,
   "id": "d9503a35",
   "metadata": {},
   "outputs": [
    {
     "name": "stdout",
     "output_type": "stream",
     "text": [
      "Double check: Matrix([[3], [9]]) = Matrix([[3], [9]])\n",
      "ответ к задаче a2), [x1, x2] = [-12, 3]\n"
     ]
    }
   ],
   "source": [
    "A = Matrix([[1,5],[0,3]])\n",
    "b = Matrix([3,9])\n",
    "X = A**(-1) * b   # находим решение методом обратных матриц \n",
    "print('Double check:', A * X, '=', b)\n",
    "print('ответ к задаче a2), [x1, x2] =', X.values())"
   ]
  },
  {
   "cell_type": "code",
   "execution_count": 50,
   "id": "f75e679d",
   "metadata": {},
   "outputs": [
    {
     "name": "stdout",
     "output_type": "stream",
     "text": [
      "Double check: Matrix([[2], [4], [6]]) = Matrix([[2], [4], [6]])\n",
      "ответ к задаче b1), [x, y, z] = [1, 1, 3]\n"
     ]
    }
   ],
   "source": [
    "A = Matrix([[2,3,-1],[0,1,1],[1,-1,2]])\n",
    "b = Matrix([2,4,6])\n",
    "X = A**(-1) * b   # находим решение методом обратных матриц \n",
    "print('Double check:', A * X, '=', b)\n",
    "print('ответ к задаче b1), [x, y, z] =', X.values())"
   ]
  },
  {
   "cell_type": "code",
   "execution_count": 51,
   "id": "b11d2482",
   "metadata": {},
   "outputs": [
    {
     "name": "stdout",
     "output_type": "stream",
     "text": [
      "Double check: Matrix([[8], [16], [32]]) = Matrix([[8], [16], [32]])\n",
      "ответ к задаче b2), [x, y, z] = [-15, 5, 1]\n"
     ]
    }
   ],
   "source": [
    "A = Matrix([[1,5,-2],[0,3,1],[-4,-6,2]])\n",
    "b = Matrix([8,16,32])\n",
    "X = A**(-1) * b   # находим решение методом обратных матриц \n",
    "print('Double check:', A * X, '=', b)\n",
    "print('ответ к задаче b2), [x, y, z] =', X.values())"
   ]
  },
  {
   "cell_type": "markdown",
   "id": "6eff62dd",
   "metadata": {},
   "source": [
    "## Задание 2. Псевдообратная матрица\n",
    "Решите задачу аппроксимации из практической работы 9 модуля (задание 3) с помощью псевдообратной матрицы (а не градиентного спуска), используя для вычислений SymPy. Насколько точнее получилось решение?"
   ]
  },
  {
   "cell_type": "raw",
   "id": "c840043e",
   "metadata": {},
   "source": [
    "Задача из 9 модуля\n",
    "MSE = 1/4*((1*a1 + 2*a2 - 5)**2 + (5*a1 + 3*a2 - 6)**2 + (2*a1 + 4*a2 - 10)**2 + (3*a1 + 7*a2 - 8)**2)\n",
    "Ответ (методом градиентного спуска, 7 шагов): [a1, a2] = [0.677, 1.170], MSE = 6.349\n",
    "\n",
    "Восстановим по MSE подразумевавшиеся X и b, чтобы найти решение [a1,a2]"
   ]
  },
  {
   "cell_type": "code",
   "execution_count": 58,
   "id": "ab624c67",
   "metadata": {},
   "outputs": [
    {
     "data": {
      "text/latex": [
       "$\\displaystyle \\left[\\begin{matrix}1 & 2\\\\5 & 3\\\\2 & 4\\\\3 & 7\\end{matrix}\\right]$"
      ],
      "text/plain": [
       "Matrix([\n",
       "[1, 2],\n",
       "[5, 3],\n",
       "[2, 4],\n",
       "[3, 7]])"
      ]
     },
     "execution_count": 58,
     "metadata": {},
     "output_type": "execute_result"
    }
   ],
   "source": [
    "X = Matrix([[1,2],[5,3],[2,4],[3,7]])\n",
    "X"
   ]
  },
  {
   "cell_type": "code",
   "execution_count": 57,
   "id": "88861259",
   "metadata": {},
   "outputs": [
    {
     "data": {
      "text/latex": [
       "$\\displaystyle \\left[\\begin{matrix}5\\\\6\\\\10\\\\8\\end{matrix}\\right]$"
      ],
      "text/plain": [
       "Matrix([\n",
       "[ 5],\n",
       "[ 6],\n",
       "[10],\n",
       "[ 8]])"
      ]
     },
     "execution_count": 57,
     "metadata": {},
     "output_type": "execute_result"
    }
   ],
   "source": [
    "b = Matrix([5,6,10,8])\n",
    "b"
   ]
  },
  {
   "cell_type": "code",
   "execution_count": 68,
   "id": "0ce68357",
   "metadata": {},
   "outputs": [
    {
     "data": {
      "text/latex": [
       "$\\displaystyle \\left[\\begin{matrix}- \\frac{7}{463} & \\frac{126}{463} & - \\frac{14}{463} & - \\frac{44}{463}\\\\\\frac{16}{463} & - \\frac{113}{926} & \\frac{32}{463} & \\frac{135}{926}\\end{matrix}\\right]$"
      ],
      "text/plain": [
       "Matrix([\n",
       "[-7/463,  126/463, -14/463, -44/463],\n",
       "[16/463, -113/926,  32/463, 135/926]])"
      ]
     },
     "execution_count": 68,
     "metadata": {},
     "output_type": "execute_result"
    }
   ],
   "source": [
    "X_pseudo_inverse = (X.T * X)**(-1) * X.T   # псевдообратная матрица\n",
    "X_pseudo_inverse"
   ]
  },
  {
   "cell_type": "code",
   "execution_count": 72,
   "id": "72d0fd9e",
   "metadata": {},
   "outputs": [
    {
     "data": {
      "text/latex": [
       "$\\displaystyle \\left[\\begin{matrix}0.4946\\\\1.298\\end{matrix}\\right]$"
      ],
      "text/plain": [
       "Matrix([\n",
       "[0.4946],\n",
       "[ 1.298]])"
      ]
     },
     "execution_count": 72,
     "metadata": {},
     "output_type": "execute_result"
    }
   ],
   "source": [
    "solution = X_pseudo_inverse * b   # решение СЛАУ\n",
    "solution.evalf(4)"
   ]
  },
  {
   "cell_type": "code",
   "execution_count": 86,
   "id": "27f95ced",
   "metadata": {},
   "outputs": [
    {
     "name": "stdout",
     "output_type": "stream",
     "text": [
      "MSE найденного решения = 6.242\n"
     ]
    }
   ],
   "source": [
    "a1, a2 = symbols(\"a1, a2\")\n",
    "MSE = 1/4*((1*a1 + 2*a2 - 5)**2 + (5*a1 + 3*a2 - 6)**2 + (2*a1 + 4*a2 - 10)**2 + (3*a1 + 7*a2 - 8)**2)\n",
    "MSE_grad = 6.349\n",
    "MSE_invm = MSE.subs({a1:solution[0], a2:solution[1]})\n",
    "print(\"MSE найденного решения =\", round(MSE_invm, 3))"
   ]
  },
  {
   "cell_type": "code",
   "execution_count": 102,
   "id": "4e1c917d",
   "metadata": {},
   "outputs": [
    {
     "name": "stdout",
     "output_type": "stream",
     "text": [
      "Решение задачи аппроксимации (с помощью псевдообратной матрицы): [a1, a2] = [0.4946, 1.298]\n",
      "В терминах MSE найденное решение точнее на 1.7% (6.349->6.242)\n"
     ]
    }
   ],
   "source": [
    "print(\"Решение задачи аппроксимации (с помощью псевдообратной матрицы): [a1, a2] =\", solution.evalf(4).values())\n",
    "\n",
    "prec = round(abs(100 * (MSE_grad - MSE_invm)) / MSE_invm, 1)\n",
    "print(f\"В терминах MSE найденное решение точнее на {prec}% ({MSE_grad}->{round(MSE_invm, 3)})\")"
   ]
  }
 ],
 "metadata": {
  "kernelspec": {
   "display_name": "Python 3 (ipykernel)",
   "language": "python",
   "name": "python3"
  },
  "language_info": {
   "codemirror_mode": {
    "name": "ipython",
    "version": 3
   },
   "file_extension": ".py",
   "mimetype": "text/x-python",
   "name": "python",
   "nbconvert_exporter": "python",
   "pygments_lexer": "ipython3",
   "version": "3.11.5"
  }
 },
 "nbformat": 4,
 "nbformat_minor": 5
}
